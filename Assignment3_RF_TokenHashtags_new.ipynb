{
 "cells": [
  {
   "cell_type": "code",
   "execution_count": 1,
   "metadata": {},
   "outputs": [],
   "source": [
    "import pyspark\n",
    "import numpy as np\n",
    "\n",
    "from pyspark import SparkContext, SQLContext, SparkConf\n",
    "\n",
    "from pyspark.sql import SparkSession, Row\n",
    "import pyspark.sql.functions as F\n",
    "from pyspark.sql.types import ArrayType, IntegerType, StringType, FloatType\n",
    "\n",
    "from pyspark.ml import Pipeline\n",
    "from pyspark.ml.classification import LinearSVC, OneVsRest, RandomForestClassifier\n",
    "from pyspark.ml.evaluation import MulticlassClassificationEvaluator, RegressionEvaluator, BinaryClassificationEvaluator\n",
    "from pyspark.ml.feature import StringIndexer, Tokenizer, RegexTokenizer, StopWordsRemover, HashingTF, CountVectorizer, IDF, ChiSqSelector, Normalizer\n",
    "from pyspark.ml.tuning import ParamGridBuilder, TrainValidationSplit\n",
    "\n",
    "from pyspark.mllib.evaluation import BinaryClassificationMetrics"
   ]
  },
  {
   "cell_type": "markdown",
   "metadata": {},
   "source": [
    "## Start Session for Assignment 3 - Pipeline (Token IDs and Hashtags)"
   ]
  },
  {
   "cell_type": "code",
   "execution_count": 2,
   "metadata": {},
   "outputs": [],
   "source": [
    "# Set Spark Config\n",
    "conf = SparkConf().setAppName(\"RecSys-Challenge-Train-Model\").setMaster(\"yarn\")\n",
    "conf = (conf.set(\"deploy-mode\",\"cluster\")\n",
    "       .set(\"spark.driver.memory\",\"100g\")\n",
    "       .set(\"spark.executor.memory\",\"100g\")\n",
    "       .set(\"spark.driver.cores\",\"1\")\n",
    "       .set(\"spark.num.executors\",\"50\")\n",
    "       .set(\"spark.executor.cores\",\"5\")\n",
    "       .set(\"spark.driver.maxResultSize\", \"100g\"))\n",
    "sc = pyspark.SparkContext(conf=conf)\n",
    "sql = SQLContext(sc)"
   ]
  },
  {
   "cell_type": "markdown",
   "metadata": {},
   "source": [
    "## Load trainset of RecSys Challenge 2020"
   ]
  },
  {
   "cell_type": "code",
   "execution_count": 3,
   "metadata": {},
   "outputs": [],
   "source": [
    "path = 'training.tsv'"
   ]
  },
  {
   "cell_type": "code",
   "execution_count": 4,
   "metadata": {},
   "outputs": [],
   "source": [
    "train_val = (sql.read\n",
    "    .format(\"csv\")\n",
    "    .option(\"header\", \"false\")\n",
    "    .option(\"sep\", \"\\x01\")\n",
    "    .load(path,  inferSchema=\"true\")\n",
    "    .repartition(1000)\n",
    "    .toDF(\"text_tokens\", \"hashtags\", \"tweet_id\", \"present_media\", \"present_links\", \"present_domains\",\"tweet_type\", \"language\", \"tweet_timestamp\", \"engaged_with_user_id\", \"engaged_with_user_follower_count\",\"engaged_with_user_following_count\", \"engaged_with_user_is_verified\", \"engaged_with_user_account_creation\",\\\n",
    "               \"engaging_user_id\", \"engaging_user_follower_count\", \"engaging_user_following_count\", \"engaging_user_is_verified\",\"engaging_user_account_creation\", \"engaged_follows_engaging\", \"reply_timestamp\", \"retweet_timestamp\", \"retweet_with_comment_timestamp\", \"like_timestamp\"))"
   ]
  },
  {
   "cell_type": "code",
   "execution_count": 5,
   "metadata": {},
   "outputs": [],
   "source": [
    "train_val = train_val.select(['text_tokens', 'hashtags', 'reply_timestamp', \"retweet_timestamp\", \"retweet_with_comment_timestamp\", \"like_timestamp\"])"
   ]
  },
  {
   "cell_type": "code",
   "execution_count": 6,
   "metadata": {},
   "outputs": [
    {
     "name": "stdout",
     "output_type": "stream",
     "text": [
      "+--------------------+--------------------+---------------+-----------------+------------------------------+--------------+\n",
      "|         text_tokens|            hashtags|reply_timestamp|retweet_timestamp|retweet_with_comment_timestamp|like_timestamp|\n",
      "+--------------------+--------------------+---------------+-----------------+------------------------------+--------------+\n",
      "|101\t56898\t137\t359...|                null|           null|       1581007862|                          null|          null|\n",
      "|101\t56898\t137\t141...|                null|           null|             null|                          null|    1580994716|\n",
      "|101\t89009\t10133\t1...|                null|           null|             null|                          null|          null|\n",
      "|101\t56898\t137\t160...|                null|           null|             null|                          null|    1580993877|\n",
      "|101\t2072\t7731\t203...|                null|           null|             null|                          null|    1581227780|\n",
      "|101\t56898\t137\t239...|                null|           null|             null|                          null|    1580995011|\n",
      "|101\t13497\t23964\t1...|6986EA2C9E82A1EEA...|           null|             null|                          null|    1581004184|\n",
      "|101\t56898\t137\t808...|                null|           null|             null|                          null|    1581003975|\n",
      "|101\t56898\t137\t592...|                null|           null|       1581009227|                          null|          null|\n",
      "|101\t30120\t16118\t1...|                null|           null|             null|                          null|          null|\n",
      "|101\t56898\t137\t482...|                null|           null|             null|                          null|    1580993551|\n",
      "|101\t8939\t18622\t92...|C6DB70F91E1F76373...|           null|             null|                          null|          null|\n",
      "|101\t27088\t75533\t1...|                null|           null|             null|                          null|    1581006738|\n",
      "|101\t54647\t10686\t1...|                null|           null|             null|                          null|          null|\n",
      "|101\t56898\t137\t109...|82B5EEE547AA7C362...|           null|             null|                          null|          null|\n",
      "|101\t145\t10738\t581...|                null|           null|             null|                          null|          null|\n",
      "|101\t4982\t4374\t189...|354E2D7A561EFB6A5...|           null|             null|                          null|    1581027901|\n",
      "|101\t60160\t32657\t1...|                null|           null|             null|                          null|          null|\n",
      "|101\t12865\t96025\t1...|                null|           null|             null|                          null|          null|\n",
      "|101\t56898\t137\t570...|                null|           null|             null|                          null|    1580999043|\n",
      "+--------------------+--------------------+---------------+-----------------+------------------------------+--------------+\n",
      "only showing top 20 rows\n",
      "\n"
     ]
    }
   ],
   "source": [
    "train_val.show()"
   ]
  },
  {
   "cell_type": "markdown",
   "metadata": {},
   "source": [
    "## Encode Engagements"
   ]
  },
  {
   "cell_type": "code",
   "execution_count": 7,
   "metadata": {},
   "outputs": [],
   "source": [
    "response_cols = ['reply_timestamp', 'retweet_timestamp', 'retweet_with_comment_timestamp', 'like_timestamp']"
   ]
  },
  {
   "cell_type": "code",
   "execution_count": 8,
   "metadata": {},
   "outputs": [],
   "source": [
    "for col in response_cols:\n",
    "    train_val = train_val.withColumn(\n",
    "        col,\n",
    "        F.when((F.col(col) >= 0), 1)\\\n",
    "        .otherwise(0)\n",
    "        )"
   ]
  },
  {
   "cell_type": "markdown",
   "metadata": {},
   "source": [
    "## Combine Token ID's with Hashtags"
   ]
  },
  {
   "cell_type": "code",
   "execution_count": 9,
   "metadata": {},
   "outputs": [],
   "source": [
    "train_val = train_val.fillna({'hashtags':'nohashtag'})"
   ]
  },
  {
   "cell_type": "code",
   "execution_count": 10,
   "metadata": {},
   "outputs": [],
   "source": [
    "train_val = train_val.withColumn(\n",
    "    'token_and_hashtags',\n",
    "    F.concat(F.col(\"text_tokens\"), F.lit(\"\\t\"), F.col(\"hashtags\")))"
   ]
  },
  {
   "cell_type": "code",
   "execution_count": 11,
   "metadata": {},
   "outputs": [
    {
     "name": "stdout",
     "output_type": "stream",
     "text": [
      "DataFrame[text_tokens: string, hashtags: string, reply_timestamp: int, retweet_timestamp: int, retweet_with_comment_timestamp: int, like_timestamp: int, token_and_hashtags: string]\n"
     ]
    }
   ],
   "source": [
    "print(train_val)"
   ]
  },
  {
   "cell_type": "markdown",
   "metadata": {},
   "source": [
    "## Build Pipeline to get TF-IDF, Top Features and Modeltuning from Token ID's & Hashtags"
   ]
  },
  {
   "cell_type": "code",
   "execution_count": 12,
   "metadata": {},
   "outputs": [],
   "source": [
    "stopwordList = [\"101\",\"102\"] \n",
    "stopwordList.extend(StopWordsRemover().getStopWords())\n",
    "stopwordList = list(set(stopwordList))#optionnal"
   ]
  },
  {
   "cell_type": "code",
   "execution_count": 13,
   "metadata": {},
   "outputs": [],
   "source": [
    "# Configure an ML pipeline, which consists of four stages: tokenizer, remover, CountVectorizer, idf, normalizer and random forest classifier.\n",
    "\n",
    "# RegEx Tokenizer which is dealing with our needed patterns [^a-zA-Z0-9] and lowercases all tokens.\n",
    "regexTokenizer = RegexTokenizer(inputCol=\"token_and_hashtags\", outputCol=\"words\", pattern=\"[^a-zA-Z0-9]\")\n",
    "\n",
    "# Removes the default english stopwords can be checked with:  StopWordsRemover.loadDefaultStopWords('english')\n",
    "remover = StopWordsRemover(inputCol=regexTokenizer.getOutputCol(), outputCol=\"filtered\", stopWords=stopwordList)\n",
    "\n",
    "# The hash function used here is MurmurHash 3. Then term frequencies are calculated based on the mapped indices.\n",
    "cv = CountVectorizer(inputCol=remover.getOutputCol(), outputCol=\"rawFeatures\")\n",
    "\n",
    "# Calculating TFIDF\n",
    "idf = IDF(inputCol=cv.getOutputCol(), outputCol=\"features\")\n",
    "\n",
    "# Chi Square Selector which selects the top 4000 features.\n",
    "selector = ChiSqSelector(featuresCol=idf.getOutputCol(),\n",
    "                         outputCol=\"selectedFeatures\", labelCol=\"label\")\n",
    "\n",
    "# Normalize\n",
    "normalizer = Normalizer(p=2.0, inputCol=\"selectedFeatures\", outputCol=\"normalizedFeatures\")\n",
    "#normalizer = Normalizer(p=2.0, inputCol=\"features\", outputCol=\"normalizedFeatures\")\n",
    "\n",
    "# Random Forest.\n",
    "rf = RandomForestClassifier(labelCol=\"label\", featuresCol=normalizer.getOutputCol(), seed=1234)\n",
    "\n",
    "\n",
    "\n",
    "#pipeline = Pipeline(stages=[regexTokenizer, remover, cv, idf, normalizer, rf])\n",
    "pipeline = Pipeline(stages=[regexTokenizer, remover, cv, idf, selector, normalizer, rf])"
   ]
  },
  {
   "cell_type": "code",
   "execution_count": 14,
   "metadata": {},
   "outputs": [],
   "source": [
    "paramGrid = ParamGridBuilder()\\\n",
    "    .addGrid(selector.numTopFeatures, [50, 100])\\\n",
    "    .addGrid(rf.numTrees, [10, 100])\\\n",
    "    .addGrid(rf.maxDepth, [8, 12])\\\n",
    "    .addGrid(rf.minInfoGain, [0.01, 0.1])\\\n",
    "    .build()"
   ]
  },
  {
   "cell_type": "code",
   "execution_count": 15,
   "metadata": {},
   "outputs": [],
   "source": [
    "tvs = TrainValidationSplit(estimator=pipeline,\n",
    "                           estimatorParamMaps=paramGrid,\n",
    "                           evaluator=BinaryClassificationEvaluator(metricName=\"areaUnderPR\"),\n",
    "                           # 75% of the data will be used for training, 25% for validation.\n",
    "                           seed=123,\n",
    "                           trainRatio=0.75)"
   ]
  },
  {
   "cell_type": "markdown",
   "metadata": {},
   "source": [
    "## Training of all 4 models"
   ]
  },
  {
   "cell_type": "markdown",
   "metadata": {},
   "source": [
    "### Train 1st Model \"reply_timestamp\""
   ]
  },
  {
   "cell_type": "code",
   "execution_count": 18,
   "metadata": {},
   "outputs": [],
   "source": [
    "train_val = train_val.withColumnRenamed(\"reply_timestamp\", \"label\")\n",
    "# Run TrainValidationSplit, and choose the best set of parameters.\n",
    "model_reply = tvs.fit(train_val)\n",
    "train_val = train_val.withColumnRenamed(\"label\", \"reply_timestamp\")"
   ]
  },
  {
   "cell_type": "code",
   "execution_count": 19,
   "metadata": {},
   "outputs": [],
   "source": [
    "# save best model from tvs grid search\n",
    "mPath_reply =  \"model_reply_bestModel_big\"\n",
    "model_reply.bestModel.write().overwrite().save(mPath_reply)"
   ]
  },
  {
   "cell_type": "markdown",
   "metadata": {},
   "source": [
    "### Train 2nd Model \"retweet_timestamp\""
   ]
  },
  {
   "cell_type": "code",
   "execution_count": 15,
   "metadata": {},
   "outputs": [],
   "source": [
    "train_val = train_val.withColumnRenamed(\"retweet_timestamp\", \"label\")\n",
    "# Run TrainValidationSplit, and choose the best set of parameters.\n",
    "model_retweet = tvs.fit(train_val)\n",
    "train_val = train_val.withColumnRenamed(\"label\", \"retweet_timestamp\")"
   ]
  },
  {
   "cell_type": "code",
   "execution_count": 16,
   "metadata": {},
   "outputs": [],
   "source": [
    "# save best model from tvs grid search\n",
    "mPath_retweet =  \"model_retweet_bestModel_big\"\n",
    "model_retweet.bestModel.write().overwrite().save(mPath_retweet)"
   ]
  },
  {
   "cell_type": "markdown",
   "metadata": {},
   "source": [
    "### Train 3rd Model \"retweet_with_comment_timestamp\""
   ]
  },
  {
   "cell_type": "code",
   "execution_count": 15,
   "metadata": {},
   "outputs": [],
   "source": [
    "train_val = train_val.withColumnRenamed(\"retweet_with_comment_timestamp\", \"label\")\n",
    "# Run TrainValidationSplit, and choose the best set of parameters.\n",
    "model_retweet_with_comment = tvs.fit(train_val)\n",
    "train_val = train_val.withColumnRenamed(\"label\", \"retweet_with_comment_timestamp\")"
   ]
  },
  {
   "cell_type": "code",
   "execution_count": 16,
   "metadata": {},
   "outputs": [],
   "source": [
    "# save best model from tvs grid search\n",
    "mPath_retweet_with_comment =  \"model_retweet_with_comment_bestModel_big\"\n",
    "model_retweet_with_comment.bestModel.write().overwrite().save(mPath_retweet_with_comment)"
   ]
  },
  {
   "cell_type": "markdown",
   "metadata": {},
   "source": [
    "### Train 4th Model \"like_timestamp\""
   ]
  },
  {
   "cell_type": "code",
   "execution_count": 16,
   "metadata": {},
   "outputs": [],
   "source": [
    "train_val = train_val.withColumnRenamed(\"like_timestamp\", \"label\")\n",
    "# Run TrainValidationSplit, and choose the best set of parameters.\n",
    "model_like = tvs.fit(train_val)\n",
    "train_val = train_val.withColumnRenamed(\"label\", \"like_timestamp\")"
   ]
  },
  {
   "cell_type": "code",
   "execution_count": 17,
   "metadata": {},
   "outputs": [],
   "source": [
    "# save best model from tvs grid search\n",
    "mPath_like =  \"model_like_bestModel_big\"\n",
    "model_like.bestModel.write().overwrite().save(mPath_like)"
   ]
  }
 ],
 "metadata": {
  "kernelspec": {
   "display_name": "PySpark3",
   "language": "python",
   "name": "pyspark3kernel"
  },
  "language_info": {
   "codemirror_mode": {
    "name": "ipython",
    "version": 3
   },
   "file_extension": ".py",
   "mimetype": "text/x-python",
   "name": "python",
   "nbconvert_exporter": "python",
   "pygments_lexer": "ipython3",
   "version": "3.6.6"
  }
 },
 "nbformat": 4,
 "nbformat_minor": 2
}
