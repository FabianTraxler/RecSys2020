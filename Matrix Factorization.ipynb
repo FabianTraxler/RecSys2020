{
 "cells": [
  {
   "cell_type": "markdown",
   "metadata": {},
   "source": [
    "# Matrix Factorization"
   ]
  },
  {
   "cell_type": "code",
   "execution_count": 1,
   "metadata": {},
   "outputs": [],
   "source": [
    "import findspark\n",
    "findspark.init(\"/usr/spark-2.4.1\")\n",
    "import pyspark\n",
    "from pyspark import SQLContext\n",
    "from pyspark.sql.functions import  when, col\n",
    "\n",
    "\n",
    "pyspark.SparkContext.setSystemProperty('spark.executor.memory', '14g')\n",
    "sc = pyspark.SparkContext()\n",
    "sql = SQLContext(sc)"
   ]
  },
  {
   "cell_type": "code",
   "execution_count": 2,
   "metadata": {},
   "outputs": [],
   "source": [
    "datafile = \"data/training_sample.tsv\"\n",
    "\n",
    "train_df = (sql.read\n",
    "    .format(\"csv\")\n",
    "    .option(\"header\", \"false\")\n",
    "    .option(\"sep\", \"\\x01\")\n",
    "    .load(datafile,  inferSchema=\"true\")\n",
    "    .toDF(\"text_tokens\", \"hashtags\", \"tweet_id\", \"present_media\", \"present_links\", \"present_domains\",\"tweet_type\", \"language\", \"tweet_timestamp\", \"engaged_with_user_id\", \"engaged_with_user_follower_count\",\"engaged_with_user_following_count\", \"engaged_with_user_is_verified\", \"engaged_with_user_account_creation\",\\\n",
    "               \"engaging_user_id\", \"engaging_user_follower_count\", \"engaging_user_following_count\", \"engaging_user_is_verified\",\"engaging_user_account_creation\", \"engaged_follows_engaging\", \"reply_timestamp\", \"retweet_timestamp\", \"retweet_with_comment_timestamp\", \"like_timestamp\"))\n",
    "\n",
    "train_df = train_df.select(\"engaging_user_id\", \"tweet_id\", \"reply_timestamp\", \"retweet_timestamp\", \"retweet_with_comment_timestamp\", \"like_timestamp\")\n"
   ]
  },
  {
   "cell_type": "code",
   "execution_count": 3,
   "metadata": {},
   "outputs": [],
   "source": [
    "tweet2id = train_df.select(\"tweet_id\").rdd.map(lambda x: x[0]).distinct().zipWithUniqueId()\n",
    "user2id = train_df.select(\"engaging_user_id\").rdd.map(lambda x: x[0]).distinct().zipWithUniqueId()"
   ]
  },
  {
   "cell_type": "code",
   "execution_count": 4,
   "metadata": {},
   "outputs": [],
   "source": [
    "tweet2id = tweet2id.toDF().withColumnRenamed(\"_1\", \"tweet_id_str\").withColumnRenamed(\"_2\", \"tweet\")\n",
    "user2id = user2id.toDF().withColumnRenamed(\"_1\", \"user_id_str\").withColumnRenamed(\"_2\", \"user\")"
   ]
  },
  {
   "cell_type": "code",
   "execution_count": 5,
   "metadata": {},
   "outputs": [],
   "source": [
    "from pyspark.sql.functions import  when, col\n",
    "\n",
    "train_df = train_df.join(tweet2id, col(\"tweet_id\") == col(\"tweet_id_str\"))\n",
    "train_df = train_df.join(user2id, col(\"engaging_user_id\") == col(\"user_id_str\"))\n",
    "train_df = train_df.select(\"user\", \"tweet\", \"reply_timestamp\", \"retweet_timestamp\", \"retweet_with_comment_timestamp\", \"like_timestamp\")"
   ]
  },
  {
   "cell_type": "code",
   "execution_count": 6,
   "metadata": {},
   "outputs": [
    {
     "data": {
      "text/plain": [
       "[Row(user=1192, tweet=6464, reply_timestamp=None, retweet_timestamp=None, retweet_with_comment_timestamp=None, like_timestamp=None)]"
      ]
     },
     "execution_count": 6,
     "metadata": {},
     "output_type": "execute_result"
    }
   ],
   "source": [
    "train_df.take(1)"
   ]
  },
  {
   "cell_type": "code",
   "execution_count": 7,
   "metadata": {},
   "outputs": [],
   "source": [
    "train_df = train_df.withColumnRenamed(\"engaging_user_id\", \"user\")\n",
    "train_df = train_df.withColumnRenamed(\"tweet_id\",\"tweet\" )\n"
   ]
  },
  {
   "cell_type": "code",
   "execution_count": 8,
   "metadata": {},
   "outputs": [],
   "source": [
    "target_cols = [\"reply_timestamp\", \"retweet_timestamp\", \"retweet_with_comment_timestamp\", \"like_timestamp\"]\n",
    "\n",
    "def encode_response(x):\n",
    "    return when(col(x).isNull(), float(0)).otherwise(float(1))\n",
    "\n",
    "for target_col in target_cols:\n",
    "    train_df = train_df.withColumn(target_col[:-10], encode_response(target_col))\n"
   ]
  },
  {
   "cell_type": "code",
   "execution_count": 9,
   "metadata": {},
   "outputs": [],
   "source": [
    "train_df = train_df.select(\"user\", \"tweet\", \"reply\", \"retweet\", \"retweet_with_comment\", \"like\")"
   ]
  },
  {
   "cell_type": "code",
   "execution_count": 10,
   "metadata": {},
   "outputs": [],
   "source": [
    "datafile_val = \"data/competition_test.tsv\"\n",
    "\n",
    "test_df = (sql.read\n",
    "    .format(\"csv\")\n",
    "    .option(\"header\", \"false\")\n",
    "    .option(\"sep\", \"\\x01\")\n",
    "    .load(datafile_val,  inferSchema=\"true\")\n",
    "    .toDF(\"text_tokens\", \"hashtags\", \"tweet_id\", \"present_media\", \"present_links\", \"present_domains\",\"tweet_type\", \"language\", \"tweet_timestamp\", \"engaged_with_user_id\", \"engaged_with_user_follower_count\",\"engaged_with_user_following_count\", \"engaged_with_user_is_verified\", \"engaged_with_user_account_creation\",\\\n",
    "               \"engaging_user_id\", \"engaging_user_follower_count\", \"engaging_user_following_count\", \"engaging_user_is_verified\",\"engaging_user_account_creation\", \"engaged_follows_engaging\"))\n",
    "\n",
    "test_df = test_df.select(\"tweet_id\",\"engaging_user_id\")"
   ]
  },
  {
   "cell_type": "code",
   "execution_count": 11,
   "metadata": {},
   "outputs": [],
   "source": [
    "tweet2id_new = test_df.select(\"tweet_id\").rdd.map(lambda x: x[0]).distinct().zipWithUniqueId()\n",
    "user2id_new = test_df.select(\"engaging_user_id\").rdd.map(lambda x: x[0]).distinct().zipWithUniqueId()\n",
    "tweet2id_new = tweet2id_new.toDF().withColumnRenamed(\"_1\", \"tweet_id_str_new\").withColumnRenamed(\"_2\", \"tweet_new\")\n",
    "user2id_new = user2id_new.toDF().withColumnRenamed(\"_1\", \"user_id_str_new\").withColumnRenamed(\"_2\", \"user_new\")"
   ]
  },
  {
   "cell_type": "code",
   "execution_count": 12,
   "metadata": {},
   "outputs": [],
   "source": [
    "test_df = test_df.join(tweet2id_new, col(\"tweet_id\") == col(\"tweet_id_str_new\"), \"left_outer\")\n",
    "test_df = test_df.join(user2id_new, col(\"engaging_user_id\") == col(\"user_id_str_new\"), \"left_outer\")"
   ]
  },
  {
   "cell_type": "code",
   "execution_count": 13,
   "metadata": {},
   "outputs": [],
   "source": [
    "test_df = test_df.join(tweet2id, col(\"tweet_id\") == col(\"tweet_id_str\"), \"left_outer\")\n",
    "test_df = test_df.join(user2id, col(\"engaging_user_id\") == col(\"user_id_str\"), \"left_outer\")"
   ]
  },
  {
   "cell_type": "code",
   "execution_count": 14,
   "metadata": {},
   "outputs": [],
   "source": [
    "max_user_id = user2id.groupBy().max(\"user\").collect()[0][0]\n",
    "max_tweet_id = tweet2id.groupBy().max(\"tweet\").collect()[0][0]\n",
    "\n",
    "def create_index(old, new):\n",
    "    if old == \"user\":\n",
    "        max_val = max_user_id\n",
    "    elif old == \"tweet\":\n",
    "        max_val = max_tweet_id\n",
    "    return when(col(old).isNull(), col(new) + max_val).otherwise(col(old))\n",
    "\n",
    "\n",
    "test_df = test_df.withColumn(\"user\", create_index(\"user\", \"user_new\"))\n",
    "test_df = test_df.withColumn(\"tweet\", create_index(\"tweet\", \"tweet_new\"))"
   ]
  },
  {
   "cell_type": "code",
   "execution_count": 15,
   "metadata": {},
   "outputs": [
    {
     "name": "stdout",
     "output_type": "stream",
     "text": [
      "Training Model for reply\n",
      "Training Model for retweet\n",
      "Training Model for retweet_with_comment\n",
      "Training Model for like\n"
     ]
    }
   ],
   "source": [
    "from pyspark.ml.evaluation import RegressionEvaluator\n",
    "from pyspark.ml.recommendation import ALS\n",
    "from pyspark.sql import Row\n",
    "\n",
    "models = {}\n",
    "\n",
    "maxIter=20\n",
    "regParam=0.001\n",
    "rank=20\n",
    "\n",
    "for target_col in target_cols:\n",
    "    target_col = target_col[:-10]\n",
    "    print(\"Training Model for {}\".format(target_col))\n",
    "    models[target_col] = ALS(maxIter=maxIter, regParam=regParam, rank=rank, \n",
    "          userCol=\"user\", itemCol=\"tweet\", ratingCol=target_col,\n",
    "          coldStartStrategy=\"nan\", implicitPrefs=True).fit(train_df)\n",
    "    \n",
    "    # Evaluate the model by computing the RMSE on the test data\n",
    "    test_df = models[target_col].transform(test_df)\n",
    "    test_df = test_df.withColumnRenamed(\"prediction\", target_col )\n",
    "    "
   ]
  },
  {
   "cell_type": "code",
   "execution_count": 16,
   "metadata": {},
   "outputs": [
    {
     "data": {
      "text/plain": [
       "[Row(tweet_id='8B5438E60671925BC9FA37DBF81A1FF3', engaging_user_id='F5EA455081075054AF7F483503352B23', tweet_id_str_new='8B5438E60671925BC9FA37DBF81A1FF3', tweet_new=227, user_id_str_new='F5EA455081075054AF7F483503352B23', user_new=4235531, tweet_id_str=None, tweet=80332, user_id_str=None, user=4245928, reply=nan, retweet=nan, retweet_with_comment=nan, like=nan),\n",
       " Row(tweet_id='4EFDBBFC5DBF463C7965F239C466AD6D', engaging_user_id='A3A0F9071D457C09C3825B90A8A1C402', tweet_id_str_new='4EFDBBFC5DBF463C7965F239C466AD6D', tweet_new=346, user_id_str_new='A3A0F9071D457C09C3825B90A8A1C402', user_new=1432024, tweet_id_str=None, tweet=80451, user_id_str=None, user=1442421, reply=nan, retweet=nan, retweet_with_comment=nan, like=nan),\n",
       " Row(tweet_id='886998CD47370112AB6C905FC18CFC03', engaging_user_id='2A3EBD0405E9DFC1CEB50B72B486524E', tweet_id_str_new='886998CD47370112AB6C905FC18CFC03', tweet_new=474, user_id_str_new='2A3EBD0405E9DFC1CEB50B72B486524E', user_new=672346, tweet_id_str=None, tweet=80579, user_id_str=None, user=682743, reply=nan, retweet=nan, retweet_with_comment=nan, like=nan),\n",
       " Row(tweet_id='7991D11A784FAD39FC6E644924D188B2', engaging_user_id='FED28C13E17F3EDA276699735A9C955B', tweet_id_str_new='7991D11A784FAD39FC6E644924D188B2', tweet_new=1244, user_id_str_new='FED28C13E17F3EDA276699735A9C955B', user_new=164629, tweet_id_str=None, tweet=81349, user_id_str=None, user=175026, reply=nan, retweet=nan, retweet_with_comment=nan, like=nan),\n",
       " Row(tweet_id='7991D11A784FAD39FC6E644924D188B2', engaging_user_id='39C108D6753C3548DB88C8B926D1AB9F', tweet_id_str_new='7991D11A784FAD39FC6E644924D188B2', tweet_new=1244, user_id_str_new='39C108D6753C3548DB88C8B926D1AB9F', user_new=6549079, tweet_id_str=None, tweet=81349, user_id_str=None, user=6559476, reply=nan, retweet=nan, retweet_with_comment=nan, like=nan),\n",
       " Row(tweet_id='79144C10CFBACDF4E32F8486885FFBF1', engaging_user_id='4066F8CFA0FF01580A8427033D556963', tweet_id_str_new='79144C10CFBACDF4E32F8486885FFBF1', tweet_new=1305, user_id_str_new='4066F8CFA0FF01580A8427033D556963', user_new=4163387, tweet_id_str=None, tweet=81410, user_id_str=None, user=4173784, reply=nan, retweet=nan, retweet_with_comment=nan, like=nan),\n",
       " Row(tweet_id='A61BE400FDE72C110CFF07C78F1A8A3C', engaging_user_id='57E4DC83E335CCC61E5250076AD834D2', tweet_id_str_new='A61BE400FDE72C110CFF07C78F1A8A3C', tweet_new=1396, user_id_str_new='57E4DC83E335CCC61E5250076AD834D2', user_new=2690829, tweet_id_str=None, tweet=81501, user_id_str=None, user=2701226, reply=nan, retweet=nan, retweet_with_comment=nan, like=nan),\n",
       " Row(tweet_id='A61BE400FDE72C110CFF07C78F1A8A3C', engaging_user_id='7AC18D59DE3DAE2ABC64115BC5383546', tweet_id_str_new='A61BE400FDE72C110CFF07C78F1A8A3C', tweet_new=1396, user_id_str_new='7AC18D59DE3DAE2ABC64115BC5383546', user_new=2657498, tweet_id_str=None, tweet=81501, user_id_str=None, user=2667895, reply=nan, retweet=nan, retweet_with_comment=nan, like=nan),\n",
       " Row(tweet_id='169F0FD91398F253F31E858E2D192CE2', engaging_user_id='16590784AD4C24AA3197863F6267CF29', tweet_id_str_new='169F0FD91398F253F31E858E2D192CE2', tweet_new=1629, user_id_str_new='16590784AD4C24AA3197863F6267CF29', user_new=787043, tweet_id_str=None, tweet=81734, user_id_str=None, user=797440, reply=nan, retweet=nan, retweet_with_comment=nan, like=nan),\n",
       " Row(tweet_id='97C5DA5B903540616CC7D838B2089894', engaging_user_id='59C1836BA9BA9A3BD7D9E7DC34D0976F', tweet_id_str_new='97C5DA5B903540616CC7D838B2089894', tweet_new=1795, user_id_str_new='59C1836BA9BA9A3BD7D9E7DC34D0976F', user_new=45790, tweet_id_str=None, tweet=81900, user_id_str=None, user=56187, reply=nan, retweet=nan, retweet_with_comment=nan, like=nan)]"
      ]
     },
     "execution_count": 16,
     "metadata": {},
     "output_type": "execute_result"
    }
   ],
   "source": [
    "test_df.take(10)"
   ]
  },
  {
   "cell_type": "code",
   "execution_count": 26,
   "metadata": {},
   "outputs": [],
   "source": [
    "from pyspark.sql.functions import rand,when,isnan\n",
    "\n",
    "def fallback_prediction(x):\n",
    "    return when(isnan(x), rand()).otherwise(col(x))\n",
    "\n",
    "for target_col in target_cols:\n",
    "        test_df = test_df.withColumn(target_col[:-10], fallback_prediction(target_col[:-10]))"
   ]
  },
  {
   "cell_type": "code",
   "execution_count": 27,
   "metadata": {},
   "outputs": [
    {
     "data": {
      "text/plain": [
       "[Row(tweet_id='8B5438E60671925BC9FA37DBF81A1FF3', engaging_user_id='F5EA455081075054AF7F483503352B23', tweet_id_str_new='8B5438E60671925BC9FA37DBF81A1FF3', tweet_new=227, user_id_str_new='F5EA455081075054AF7F483503352B23', user_new=4235531, tweet_id_str=None, tweet=80332, user_id_str=None, user=4245928, reply=0.6175814194076299, retweet=0.36664128426510845, retweet_with_comment=0.9105523205447466, like=0.7404391343869123),\n",
       " Row(tweet_id='4EFDBBFC5DBF463C7965F239C466AD6D', engaging_user_id='A3A0F9071D457C09C3825B90A8A1C402', tweet_id_str_new='4EFDBBFC5DBF463C7965F239C466AD6D', tweet_new=346, user_id_str_new='A3A0F9071D457C09C3825B90A8A1C402', user_new=1432024, tweet_id_str=None, tweet=80451, user_id_str=None, user=1442421, reply=0.931873319102214, retweet=0.7289156038330726, retweet_with_comment=0.9639885931071754, like=0.9167910497795758),\n",
       " Row(tweet_id='886998CD47370112AB6C905FC18CFC03', engaging_user_id='2A3EBD0405E9DFC1CEB50B72B486524E', tweet_id_str_new='886998CD47370112AB6C905FC18CFC03', tweet_new=474, user_id_str_new='2A3EBD0405E9DFC1CEB50B72B486524E', user_new=672346, tweet_id_str=None, tweet=80579, user_id_str=None, user=682743, reply=0.3875341546280191, retweet=0.9389292892185808, retweet_with_comment=0.7411203688659048, like=0.060983793013383636),\n",
       " Row(tweet_id='7991D11A784FAD39FC6E644924D188B2', engaging_user_id='FED28C13E17F3EDA276699735A9C955B', tweet_id_str_new='7991D11A784FAD39FC6E644924D188B2', tweet_new=1244, user_id_str_new='FED28C13E17F3EDA276699735A9C955B', user_new=164629, tweet_id_str=None, tweet=81349, user_id_str=None, user=175026, reply=0.6876527867297705, retweet=0.09445043565196232, retweet_with_comment=0.8023610408817148, like=0.17967725329595996),\n",
       " Row(tweet_id='7991D11A784FAD39FC6E644924D188B2', engaging_user_id='39C108D6753C3548DB88C8B926D1AB9F', tweet_id_str_new='7991D11A784FAD39FC6E644924D188B2', tweet_new=1244, user_id_str_new='39C108D6753C3548DB88C8B926D1AB9F', user_new=6549079, tweet_id_str=None, tweet=81349, user_id_str=None, user=6559476, reply=0.7181331184968225, retweet=0.9162814578276963, retweet_with_comment=0.3908122044072858, like=0.4578369183620138),\n",
       " Row(tweet_id='79144C10CFBACDF4E32F8486885FFBF1', engaging_user_id='4066F8CFA0FF01580A8427033D556963', tweet_id_str_new='79144C10CFBACDF4E32F8486885FFBF1', tweet_new=1305, user_id_str_new='4066F8CFA0FF01580A8427033D556963', user_new=4163387, tweet_id_str=None, tweet=81410, user_id_str=None, user=4173784, reply=0.2325372537601803, retweet=0.7704160250123696, retweet_with_comment=0.30410301724732447, like=0.7394629449011141),\n",
       " Row(tweet_id='A61BE400FDE72C110CFF07C78F1A8A3C', engaging_user_id='57E4DC83E335CCC61E5250076AD834D2', tweet_id_str_new='A61BE400FDE72C110CFF07C78F1A8A3C', tweet_new=1396, user_id_str_new='57E4DC83E335CCC61E5250076AD834D2', user_new=2690829, tweet_id_str=None, tweet=81501, user_id_str=None, user=2701226, reply=0.8641294318188154, retweet=0.7427291476131602, retweet_with_comment=0.5153941911808537, like=0.3982627249105761),\n",
       " Row(tweet_id='A61BE400FDE72C110CFF07C78F1A8A3C', engaging_user_id='7AC18D59DE3DAE2ABC64115BC5383546', tweet_id_str_new='A61BE400FDE72C110CFF07C78F1A8A3C', tweet_new=1396, user_id_str_new='7AC18D59DE3DAE2ABC64115BC5383546', user_new=2657498, tweet_id_str=None, tweet=81501, user_id_str=None, user=2667895, reply=0.2103256832947702, retweet=0.9918717044128317, retweet_with_comment=0.4369700738033935, like=0.12479031092406756),\n",
       " Row(tweet_id='169F0FD91398F253F31E858E2D192CE2', engaging_user_id='16590784AD4C24AA3197863F6267CF29', tweet_id_str_new='169F0FD91398F253F31E858E2D192CE2', tweet_new=1629, user_id_str_new='16590784AD4C24AA3197863F6267CF29', user_new=787043, tweet_id_str=None, tweet=81734, user_id_str=None, user=797440, reply=0.43950497790815357, retweet=0.8887422288357797, retweet_with_comment=0.650552532927365, like=0.14930683427210278),\n",
       " Row(tweet_id='97C5DA5B903540616CC7D838B2089894', engaging_user_id='59C1836BA9BA9A3BD7D9E7DC34D0976F', tweet_id_str_new='97C5DA5B903540616CC7D838B2089894', tweet_new=1795, user_id_str_new='59C1836BA9BA9A3BD7D9E7DC34D0976F', user_new=45790, tweet_id_str=None, tweet=81900, user_id_str=None, user=56187, reply=0.2620538437846833, retweet=0.28022723012142714, retweet_with_comment=0.22082233312472, like=0.1890417707808616)]"
      ]
     },
     "execution_count": 27,
     "metadata": {},
     "output_type": "execute_result"
    }
   ],
   "source": [
    "test_df.take(10)"
   ]
  },
  {
   "cell_type": "code",
   "execution_count": null,
   "metadata": {},
   "outputs": [],
   "source": [
    "#from pyspark.mllib.evaluation import BinaryClassificationMetrics##\n",
    "\n",
    "#metrics = {}\n",
    "\n",
    "#for target_col in target_cols:\n",
    "#    target_col = target_col[:-10]\n",
    "#    predictionAndLabels = test.rdd.map(lambda r: (r[target_col+\"_pred\"], r[target_col]))\n",
    "#    metric = BinaryClassificationMetrics(predictionAndLabels)\n",
    "#    metrics[target_col] = metric.areaUnderPR\n",
    "#    print(\"For {}: Area under PR = {}\".format(target_col, metrics[target_col]))"
   ]
  },
  {
   "cell_type": "code",
   "execution_count": null,
   "metadata": {},
   "outputs": [],
   "source": [
    "#a = sc.parallelize(metrics.items())\n",
    "\n",
    "#a.coalesce(1).saveAsTextFile(\"test\")"
   ]
  }
 ],
 "metadata": {
  "kernelspec": {
   "display_name": "Python 3",
   "language": "python",
   "name": "python3"
  },
  "language_info": {
   "codemirror_mode": {
    "name": "ipython",
    "version": 3
   },
   "file_extension": ".py",
   "mimetype": "text/x-python",
   "name": "python",
   "nbconvert_exporter": "python",
   "pygments_lexer": "ipython3",
   "version": "3.5.3"
  }
 },
 "nbformat": 4,
 "nbformat_minor": 4
}
