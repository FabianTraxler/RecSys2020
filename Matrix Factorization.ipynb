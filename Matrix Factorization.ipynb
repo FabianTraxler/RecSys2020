{
 "cells": [
  {
   "cell_type": "markdown",
   "metadata": {},
   "source": [
    "# Matrix Factorization"
   ]
  },
  {
   "cell_type": "code",
   "execution_count": 1,
   "metadata": {},
   "outputs": [],
   "source": [
    "import findspark\n",
    "findspark.init(\"/usr/spark-2.4.1\")\n",
    "import pyspark\n",
    "from pyspark import SQLContext\n",
    "\n",
    "pyspark.SparkContext.setSystemProperty('spark.executor.memory', '14g')\n",
    "sc = pyspark.SparkContext()\n",
    "sql = SQLContext(sc)"
   ]
  },
  {
   "cell_type": "code",
   "execution_count": 2,
   "metadata": {},
   "outputs": [],
   "source": [
    "datafile = \"data/training_sample.tsv\"\n",
    "\n",
    "df = (sql.read\n",
    "    .format(\"csv\")\n",
    "    .option(\"header\", \"false\")\n",
    "    .option(\"sep\", \"\\x01\")\n",
    "    .load(datafile,  inferSchema=\"true\")\n",
    "    .toDF(\"text_tokens\", \"hashtags\", \"tweet_id\", \"present_media\", \"present_links\", \"present_domains\",\"tweet_type\", \"language\", \"tweet_timestamp\", \"engaged_with_user_id\", \"engaged_with_user_follower_count\",\"engaged_with_user_following_count\", \"engaged_with_user_is_verified\", \"engaged_with_user_account_creation\",\\\n",
    "               \"engaging_user_id\", \"engaging_user_follower_count\", \"engaging_user_following_count\", \"engaging_user_is_verified\",\"engaging_user_account_creation\", \"engaged_follows_engaging\", \"reply_timestamp\", \"retweet_timestamp\", \"retweet_with_comment_timestamp\", \"like_timestamp\"))"
   ]
  },
  {
   "cell_type": "code",
   "execution_count": 3,
   "metadata": {},
   "outputs": [],
   "source": [
    "from pyspark.ml import Pipeline\n",
    "from pyspark.ml.feature import StringIndexer\n",
    "\n",
    "\n",
    "user_indexer = StringIndexer(inputCol=\"engaging_user_id\", outputCol=\"user\")\n",
    "tweet_indexer = StringIndexer(inputCol=\"tweet_id\", outputCol=\"tweet\")\n",
    "\n",
    "pipeline = Pipeline(stages=[user_indexer, tweet_indexer])\n",
    "df = pipeline.fit(df).transform(df)"
   ]
  },
  {
   "cell_type": "code",
   "execution_count": 18,
   "metadata": {},
   "outputs": [],
   "source": [
    "from pyspark.sql.functions import  when, col\n",
    "\n",
    "def encode_response(x):\n",
    "    return when(col(x).isNull(), float(0)).otherwise(float(1))\n",
    "\n",
    "def implicit_feedback(creation_time, interaction_time):\n",
    "    return when(col(interaction_time).isNull(), float(0)).otherwise(col(interaction_time)-col(creation_time))\n",
    "\n",
    "df = df.withColumn(\"like\", encode_response(\"like_timestamp\"))\n",
    "\n",
    "data = df.select(\"user\", \"tweet\", \"like\")"
   ]
  },
  {
   "cell_type": "code",
   "execution_count": 19,
   "metadata": {},
   "outputs": [],
   "source": [
    "(training, test) = data.randomSplit([0.8, 0.2])"
   ]
  },
  {
   "cell_type": "code",
   "execution_count": 20,
   "metadata": {},
   "outputs": [
    {
     "data": {
      "text/plain": [
       "[Row(user=0.0, tweet=894.0, like=1.0),\n",
       " Row(user=0.0, tweet=12672.0, like=1.0),\n",
       " Row(user=0.0, tweet=21419.0, like=1.0),\n",
       " Row(user=0.0, tweet=28349.0, like=1.0),\n",
       " Row(user=0.0, tweet=63325.0, like=1.0),\n",
       " Row(user=0.0, tweet=71604.0, like=1.0),\n",
       " Row(user=3.0, tweet=5885.0, like=0.0),\n",
       " Row(user=3.0, tweet=9583.0, like=0.0),\n",
       " Row(user=3.0, tweet=32968.0, like=0.0),\n",
       " Row(user=3.0, tweet=35854.0, like=0.0),\n",
       " Row(user=3.0, tweet=70495.0, like=0.0),\n",
       " Row(user=4.0, tweet=4665.0, like=1.0),\n",
       " Row(user=4.0, tweet=37107.0, like=1.0),\n",
       " Row(user=4.0, tweet=46505.0, like=1.0),\n",
       " Row(user=4.0, tweet=59001.0, like=1.0)]"
      ]
     },
     "execution_count": 20,
     "metadata": {},
     "output_type": "execute_result"
    }
   ],
   "source": [
    "training.head(15)"
   ]
  },
  {
   "cell_type": "code",
   "execution_count": 65,
   "metadata": {},
   "outputs": [],
   "source": [
    "from pyspark.ml.evaluation import RegressionEvaluator\n",
    "from pyspark.ml.recommendation import ALS\n",
    "from pyspark.sql import Row\n",
    "\n",
    "als = ALS(maxIter=10, regParam=0.01, rank=20, \n",
    "          userCol=\"user\", itemCol=\"tweet\", ratingCol=\"like\",\n",
    "          coldStartStrategy=\"drop\", implicitPrefs=True)\n",
    "model = als.fit(training)\n",
    "\n",
    "# Evaluate the model by computing the RMSE on the test data\n",
    "predictions = model.transform(test)"
   ]
  },
  {
   "cell_type": "code",
   "execution_count": 66,
   "metadata": {},
   "outputs": [
    {
     "data": {
      "text/plain": [
       "[Row(user=869.0, tweet=1088.0, like=1.0, prediction=-2.731183030846296e-06),\n",
       " Row(user=483.0, tweet=243.0, like=1.0, prediction=-3.378973142953434e-11),\n",
       " Row(user=4047.0, tweet=392.0, like=0.0, prediction=5.73888048996389e-17),\n",
       " Row(user=94.0, tweet=737.0, like=1.0, prediction=-0.0006277129286900163),\n",
       " Row(user=36.0, tweet=897.0, like=1.0, prediction=0.0),\n",
       " Row(user=1238.0, tweet=31.0, like=1.0, prediction=3.450740848620626e-07),\n",
       " Row(user=2048.0, tweet=516.0, like=0.0, prediction=0.0),\n",
       " Row(user=504.0, tweet=1139.0, like=1.0, prediction=0.0),\n",
       " Row(user=6155.0, tweet=85.0, like=1.0, prediction=0.0),\n",
       " Row(user=598.0, tweet=85.0, like=1.0, prediction=5.024946929908791e-13)]"
      ]
     },
     "execution_count": 66,
     "metadata": {},
     "output_type": "execute_result"
    }
   ],
   "source": [
    "predictions.take(10)"
   ]
  },
  {
   "cell_type": "code",
   "execution_count": 69,
   "metadata": {},
   "outputs": [],
   "source": [
    "predictionAndLabels = predictions.rdd.map(lambda r: (r.prediction, r.like))"
   ]
  },
  {
   "cell_type": "code",
   "execution_count": 70,
   "metadata": {},
   "outputs": [
    {
     "name": "stdout",
     "output_type": "stream",
     "text": [
      "Area under PR = 0.745748752782995\n"
     ]
    }
   ],
   "source": [
    "from pyspark.mllib.evaluation import BinaryClassificationMetrics\n",
    "\n",
    "# Instantiate metrics object\n",
    "metrics = BinaryClassificationMetrics(predictionAndLabels)\n",
    "\n",
    "# Area under precision-recall curve\n",
    "print(\"Area under PR = %s\" % metrics.areaUnderPR)"
   ]
  },
  {
   "cell_type": "code",
   "execution_count": 67,
   "metadata": {},
   "outputs": [],
   "source": [
    "def convert_to_class(x, threshold):\n",
    "    return when(col(x) <= threshold, float(0)).otherwise(float(1))\n",
    "\n",
    "predictions = predictions.withColumn(\"prediction_class\", convert_to_class(\"prediction\", 0))"
   ]
  },
  {
   "cell_type": "code",
   "execution_count": 68,
   "metadata": {},
   "outputs": [
    {
     "data": {
      "text/plain": [
       "[Row(user=869.0, tweet=1088.0, like=1.0, prediction=-2.731183030846296e-06, prediction_class=0.0),\n",
       " Row(user=483.0, tweet=243.0, like=1.0, prediction=-3.378973142953434e-11, prediction_class=0.0),\n",
       " Row(user=4047.0, tweet=392.0, like=0.0, prediction=5.73888048996389e-17, prediction_class=1.0),\n",
       " Row(user=94.0, tweet=737.0, like=1.0, prediction=-0.0006277129286900163, prediction_class=0.0),\n",
       " Row(user=36.0, tweet=897.0, like=1.0, prediction=0.0, prediction_class=0.0),\n",
       " Row(user=1238.0, tweet=31.0, like=1.0, prediction=3.450740848620626e-07, prediction_class=1.0),\n",
       " Row(user=2048.0, tweet=516.0, like=0.0, prediction=0.0, prediction_class=0.0),\n",
       " Row(user=504.0, tweet=1139.0, like=1.0, prediction=0.0, prediction_class=0.0),\n",
       " Row(user=6155.0, tweet=85.0, like=1.0, prediction=0.0, prediction_class=0.0),\n",
       " Row(user=598.0, tweet=85.0, like=1.0, prediction=5.024946929908791e-13, prediction_class=1.0)]"
      ]
     },
     "execution_count": 68,
     "metadata": {},
     "output_type": "execute_result"
    }
   ],
   "source": [
    "predictions.take(10)"
   ]
  }
 ],
 "metadata": {
  "kernelspec": {
   "display_name": "Python 3",
   "language": "python",
   "name": "python3"
  },
  "language_info": {
   "codemirror_mode": {
    "name": "ipython",
    "version": 3
   },
   "file_extension": ".py",
   "mimetype": "text/x-python",
   "name": "python",
   "nbconvert_exporter": "python",
   "pygments_lexer": "ipython3",
   "version": "3.5.3"
  }
 },
 "nbformat": 4,
 "nbformat_minor": 4
}
