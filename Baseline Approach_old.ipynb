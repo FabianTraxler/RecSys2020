{
 "cells": [
  {
   "cell_type": "markdown",
   "metadata": {},
   "source": [
    "# Baseline Approach\n",
    "\n",
    "This Notebook tries to implement the baseline approach described in the paper accompanind the Exam: \n",
    "\n",
    "- [Privacy-Preserving Recommender Systems Challenge on Twitter’s HomeTimeline]{https://arxiv.org/pdf/2004.13715.pdf}\n",
    "\n",
    "The baseline approch is described in chapter 5.3"
   ]
  },
  {
   "cell_type": "code",
   "execution_count": null,
   "metadata": {},
   "outputs": [],
   "source": [
    "import findspark\n",
    "findspark.init(\"/usr/spark-2.4.1\")\n",
    "import pyspark\n",
    "from pyspark import SQLContext\n",
    "\n",
    "import numpy as np"
   ]
  },
  {
   "cell_type": "code",
   "execution_count": null,
   "metadata": {},
   "outputs": [],
   "source": [
    "pyspark.SparkContext.setSystemProperty('spark.executor.memory', '14g')\n",
    "sc = pyspark.SparkContext()\n",
    "sql = SQLContext(sc)"
   ]
  },
  {
   "cell_type": "markdown",
   "metadata": {},
   "source": [
    "## Data Loading\n",
    "\n",
    "Read Sample Data as Spark DataFrame and assign column names according to RecSys Challenge Documentation"
   ]
  },
  {
   "cell_type": "code",
   "execution_count": null,
   "metadata": {},
   "outputs": [],
   "source": [
    "datafile = \"data/training_sample.tsv\"\n",
    "\n",
    "df = (sql.read\n",
    "    .format(\"csv\")\n",
    "    .option(\"header\", \"false\")\n",
    "    .option(\"sep\", \"\\x01\")\n",
    "    .load(datafile,  inferSchema=\"true\")\n",
    "    .toDF(\"text_tokens\", \"hashtags\", \"tweet_id\", \"present_media\", \"present_links\", \"present_domains\",\"tweet_type\", \"language\", \"tweet_timestamp\", \"engaged_with_user_id\", \"engaged_with_user_follower_count\",\"engaged_with_user_following_count\", \"engaged_with_user_is_verified\", \"engaged_with_user_account_creation\",\\\n",
    "               \"engaging_user_id\", \"engaging_user_follower_count\", \"engaging_user_following_count\", \"engaging_user_is_verified\",\"engaging_user_account_creation\", \"engaged_follows_engaging\", \"reply_timestamp\", \"retweet_timestamp\", \"retweet_with_comment_timestamp\", \"like_timestamp\"))"
   ]
  },
  {
   "cell_type": "code",
   "execution_count": null,
   "metadata": {},
   "outputs": [],
   "source": [
    "df"
   ]
  },
  {
   "cell_type": "code",
   "execution_count": null,
   "metadata": {},
   "outputs": [],
   "source": [
    "# Change the boolean variables to interger (0 and 1)\n",
    "from pyspark.sql.functions import col, split, when, array\n",
    "df = df.withColumn(\"engaged_with_user_is_verified\",col(\"engaged_with_user_is_verified\").cast(\"Integer\"))\n",
    "df = df.withColumn(\"engaging_user_is_verified\",col(\"engaging_user_is_verified\").cast(\"Integer\"))\n",
    "df = df.withColumn(\"engaged_follows_engaging\",col(\"engaged_follows_engaging\").cast(\"Integer\"))"
   ]
  },
  {
   "cell_type": "code",
   "execution_count": null,
   "metadata": {},
   "outputs": [],
   "source": [
    "# Split the string representations of lists\n",
    "## Convert the text tokens to array of ints\n",
    "split_text = pyspark.sql.functions.split(df['text_tokens'], '\\t')\n",
    "df = df.withColumn(\"text_tokens\", split_text)\n",
    "\n",
    "## Convert present media to array of strings\n",
    "split_text = pyspark.sql.functions.split(df['present_media'], '\\t')\n",
    "df = df.withColumn(\"present_media\", when(col('present_media').isNull(), array().cast(\"array<string>\")).otherwise(split_text))\n",
    "\n",
    "## Convert present links to array of strings\n",
    "split_text = pyspark.sql.functions.split(df['present_links'], '\\t')\n",
    "df = df.withColumn(\"present_links\", when(col('present_links').isNull(), array().cast(\"array<string>\")).otherwise(split_text))\n",
    "\n",
    "## Convert hashtags to array of strings\n",
    "split_text = pyspark.sql.functions.split(df['hashtags'], '\\t')\n",
    "df = df.withColumn(\"hashtags\", when(col('hashtags').isNull(), array().cast(\"array<string>\")).otherwise(split_text))\n",
    "\n",
    "## Convert present_domains to array of strings\n",
    "split_text = pyspark.sql.functions.split(df['present_domains'], '\\t')\n",
    "df = df.withColumn(\"present_domains\", when(col('present_domains').isNull(), array().cast(\"array<string>\")).otherwise(split_text))\n"
   ]
  },
  {
   "cell_type": "code",
   "execution_count": null,
   "metadata": {},
   "outputs": [],
   "source": [
    "df.take(1)"
   ]
  },
  {
   "cell_type": "code",
   "execution_count": 8,
   "metadata": {},
   "outputs": [],
   "source": [
    "numeric_cols = ['engaged_with_user_follower_count', \n",
    "                'engaged_with_user_following_count', \n",
    "                'engaged_with_user_account_creation',\n",
    "                'engaging_user_follower_count', \n",
    "                'engaging_user_following_count',\n",
    "                'engaging_user_account_creation',\n",
    "                'tweet_timestamp',\n",
    "               ]\n",
    "\n",
    "\n",
    "categorical_cols = ['tweet_type', 'language', \n",
    "                    'engaged_with_user_is_verified', 'engaging_user_is_verified', 'engaged_follows_engaging']\n",
    "\n",
    "id_cols = ['tweet_id', 'engaged_with_user_id', 'engaging_user_id']\n",
    "\n",
    "response_cols = ['reply_timestamp', \n",
    "                 'retweet_timestamp',\n",
    "                 'retweet_with_comment_timestamp', \n",
    "                 'like_timestamp'\n",
    "                ]\n",
    "\n",
    "tweet_feature_cols = ['text_tokens', 'hashtags', 'present_media', 'present_links', 'present_domains']"
   ]
  },
  {
   "cell_type": "markdown",
   "metadata": {},
   "source": [
    "### Helper Functions"
   ]
  },
  {
   "cell_type": "code",
   "execution_count": 9,
   "metadata": {},
   "outputs": [],
   "source": [
    "from pyspark.ml.feature import QuantileDiscretizer, StringIndexer, FeatureHasher, OneHotEncoderEstimator, CountVectorizer,PCA, VectorAssembler\n",
    "\n",
    "nq = 50 # number of quantiles to use\n",
    "\n",
    "def create_quantilesDiscretizer(input_col: str) -> QuantileDiscretizer:\n",
    "    \"\"\"\n",
    "    Create a Quantile Discretizer for a specified column \n",
    "    Uses as output colum the input + _discretized\n",
    "    \n",
    "    Parameters\n",
    "    ----------\n",
    "    input_col: str\n",
    "        Name of the Input Column\n",
    "        \n",
    "    Return\n",
    "    ------\n",
    "    QuantileDiscretizer\n",
    "    \"\"\"\n",
    "    output_col = input_col + \"_discretized\"\n",
    "    return QuantileDiscretizer(numBuckets=nq,\n",
    "                                  relativeError=0.,\n",
    "                                  handleInvalid='keep',\n",
    "                                  inputCol=input_col,\n",
    "                                  outputCol=output_col)\n",
    "\n",
    "def create_stringIndexer(input_col):\n",
    "    \"\"\"\n",
    "    Create a String Indexer for a specified column \n",
    "    Uses as output colum the input + _indexed\n",
    "    \n",
    "    Parameters\n",
    "    ----------\n",
    "    input_col: str\n",
    "        Name of the Input Column\n",
    "        \n",
    "    Return\n",
    "    ------\n",
    "    StringIndexer\n",
    "    \"\"\"\n",
    "    output_col = input_col + \"_indexed\"\n",
    "    return StringIndexer(inputCol=input_col,\n",
    "                         outputCol=output_col,\n",
    "                        handleInvalid='keep',)\n",
    "\n",
    "\n",
    "def create_featureHasher(input_col):\n",
    "    \"\"\"\n",
    "    Create a Feature Hasher for a specified column \n",
    "    Uses as output colum the input + _oneHot (creates oneHotEncodings for strings)\n",
    "    \n",
    "    Parameters\n",
    "    ----------\n",
    "    input_col: str\n",
    "        Name of the Input Column\n",
    "        \n",
    "    Return\n",
    "    ------\n",
    "    FeatureHasher\n",
    "    \"\"\"\n",
    "    output_col = input_col + \"_oneHot\"\n",
    "    return FeatureHasher(numFeatures=nq,\n",
    "                         inputCols=[input_col],\n",
    "                         outputCol=output_col)\n",
    "\n",
    "\n",
    "def create_countVectorizer(input_col):\n",
    "    output_col = input_col + \"_vectorized\"\n",
    "    return CountVectorizer(inputCol=input_col,\n",
    "                           outputCol=output_col)\n"
   ]
  },
  {
   "cell_type": "markdown",
   "metadata": {},
   "source": [
    "#### Create Transformer"
   ]
  },
  {
   "cell_type": "code",
   "execution_count": 10,
   "metadata": {},
   "outputs": [],
   "source": [
    "# Encode Numeric Features (5.3.1)\n",
    "quantile_discretizers_numeric = [ create_quantilesDiscretizer(col) for col in numeric_cols ]\n",
    "\n",
    "# Encode Categorical Features (5.3.2)\n",
    "string_indexer_categorical = [ create_stringIndexer(col) for col in categorical_cols]\n",
    "\n",
    "# Encode ID Features (5.3.3)\n",
    "id_feature_hashers = [ create_featureHasher(col) for col in id_cols]\n",
    "\n",
    "# Encode Tweet Features (5.3.4 + 5.3.5)\n",
    "tweet_countVectorizers = [ create_countVectorizer(col) for col in tweet_feature_cols]\n",
    "\n",
    "\n",
    "# One-Hot-Encode Features\n",
    "columns_to_encode = [ col+\"_discretized\" for col in numeric_cols]\n",
    "columns_to_encode.extend([ col+\"_indexed\" for col in categorical_cols])\n",
    "encoded_columns = [ col+\"_oneHot\" for col in numeric_cols]\n",
    "encoded_columns.extend([ col+\"_onHot\" for col in categorical_cols])\n",
    "\n",
    "onHotEncoder = OneHotEncoderEstimator(inputCols=columns_to_encode, \n",
    "                                      outputCols=encoded_columns,dropLast=False,handleInvalid=\"keep\" )\n",
    "\n",
    "\n",
    "\n",
    "# Add Vectors with VectorAssembler\n",
    "encoded_columns.extend([ col+\"_oneHot\" for col in id_cols ])\n",
    "num_cat_id_feature_assambler = VectorAssembler(inputCols=encoded_columns,\n",
    "                                               outputCol=\"non_tweet_features\")\n",
    "\n",
    "tweet_features_encoded = [ col+\"_vectorized\" for col in tweet_feature_cols]\n",
    "tweet_feature_assambler = VectorAssembler(inputCols=tweet_features_encoded,\n",
    "                                               outputCol=\"tweet_features\")\n",
    "\n",
    "# Perform Dimensionality Reduction\n",
    "\n",
    "#non_tweet_pca = PCA(k=16, \n",
    "#          inputCol=\"non_tweet_features\", \n",
    "#          outputCol=\"non_tweet_features_reduced\")\n",
    "\n",
    "#tweet_pca = PCA(k=16, \n",
    "#          inputCol=\"tweet_features\", \n",
    "#          outputCol=\"tweet_features_reduced\")\n",
    "\n",
    "features = ['non_tweet_features', 'tweet_features']\n",
    "feature_assambler = VectorAssembler(inputCols=features,\n",
    "                                               outputCol=\"features\")"
   ]
  },
  {
   "cell_type": "code",
   "execution_count": 11,
   "metadata": {},
   "outputs": [],
   "source": [
    "from pyspark.ml import Pipeline\n",
    "\n",
    "\n",
    "# create a list of all transformers\n",
    "stages = list()\n",
    "stages.extend(quantile_discretizers_numeric)\n",
    "stages.extend(string_indexer_categorical)\n",
    "stages.extend(id_feature_hashers)\n",
    "stages.append(onHotEncoder)\n",
    "stages.extend(tweet_countVectorizers)\n",
    "stages.append(num_cat_id_feature_assambler)\n",
    "stages.append(tweet_feature_assambler)\n",
    "#stages.append(non_tweet_pca)\n",
    "#stages.append(tweet_pca)\n",
    "stages.append(feature_assambler)\n",
    "\n",
    "pipeline = Pipeline(stages=stages)"
   ]
  },
  {
   "cell_type": "code",
   "execution_count": 12,
   "metadata": {},
   "outputs": [],
   "source": [
    "# fit and transform dataframe\n",
    "df = pipeline.fit(df).transform(df)"
   ]
  },
  {
   "cell_type": "code",
   "execution_count": 14,
   "metadata": {},
   "outputs": [
    {
     "data": {
      "text/plain": [
       "[Row(features=SparseVector(93549, {8: 1.0, 78: 1.0, 128: 1.0, 174: 1.0, 250: 1.0, 303: 1.0, 349: 1.0, 358: 1.0, 382: 1.0, 422: 1.0, 426: 1.0, 430: 1.0, 437: 1.0, 508: 1.0, 540: 1.0, 584: 1.0, 585: 3.0, 586: 1.0, 587: 1.0, 588: 2.0, 590: 1.0, 591: 1.0, 592: 1.0, 593: 1.0, 596: 1.0, 616: 1.0, 624: 1.0, 639: 1.0, 648: 1.0, 651: 1.0, 655: 1.0, 663: 1.0, 671: 1.0, 680: 1.0, 840: 1.0, 955: 1.0, 975: 1.0, 1491: 1.0, 9901: 1.0, 36312: 2.0, 38498: 1.0, 56362: 1.0, 79119: 1.0}))]"
      ]
     },
     "execution_count": 14,
     "metadata": {},
     "output_type": "execute_result"
    }
   ],
   "source": [
    "df.select('features').take(1)"
   ]
  },
  {
   "cell_type": "code",
   "execution_count": 18,
   "metadata": {},
   "outputs": [],
   "source": [
    "from pyspark.mllib.linalg import Vectors\n",
    "from pyspark.mllib.linalg.distributed import RowMatrix\n",
    "\n",
    "mat = RowMatrix(df.rdd.map(lambda v: Vectors.fromML(v.non_tweet_features)))"
   ]
  },
  {
   "cell_type": "code",
   "execution_count": 19,
   "metadata": {},
   "outputs": [
    {
     "ename": "KeyboardInterrupt",
     "evalue": "",
     "output_type": "error",
     "traceback": [
      "\u001b[0;31m---------------------------------------------------------------------------\u001b[0m",
      "\u001b[0;31mKeyboardInterrupt\u001b[0m                         Traceback (most recent call last)",
      "\u001b[0;32m<ipython-input-19-53465312f6d0>\u001b[0m in \u001b[0;36m<module>\u001b[0;34m\u001b[0m\n\u001b[0;32m----> 1\u001b[0;31m \u001b[0msvd\u001b[0m \u001b[0;34m=\u001b[0m \u001b[0mmat\u001b[0m\u001b[0;34m.\u001b[0m\u001b[0mcomputeSVD\u001b[0m\u001b[0;34m(\u001b[0m\u001b[0;36m16\u001b[0m\u001b[0;34m)\u001b[0m\u001b[0;34m\u001b[0m\u001b[0m\n\u001b[0m",
      "\u001b[0;32m/usr/spark-2.4.1/python/pyspark/mllib/linalg/distributed.py\u001b[0m in \u001b[0;36mcomputeSVD\u001b[0;34m(self, k, computeU, rCond)\u001b[0m\n\u001b[1;32m    342\u001b[0m         \"\"\"\n\u001b[1;32m    343\u001b[0m         j_model = self._java_matrix_wrapper.call(\n\u001b[0;32m--> 344\u001b[0;31m             \"computeSVD\", int(k), bool(computeU), float(rCond))\n\u001b[0m\u001b[1;32m    345\u001b[0m         \u001b[0;32mreturn\u001b[0m \u001b[0mSingularValueDecomposition\u001b[0m\u001b[0;34m(\u001b[0m\u001b[0mj_model\u001b[0m\u001b[0;34m)\u001b[0m\u001b[0;34m\u001b[0m\u001b[0m\n\u001b[1;32m    346\u001b[0m \u001b[0;34m\u001b[0m\u001b[0m\n",
      "\u001b[0;32m/usr/spark-2.4.1/python/pyspark/mllib/common.py\u001b[0m in \u001b[0;36mcall\u001b[0;34m(self, name, *a)\u001b[0m\n\u001b[1;32m    144\u001b[0m     \u001b[0;32mdef\u001b[0m \u001b[0mcall\u001b[0m\u001b[0;34m(\u001b[0m\u001b[0mself\u001b[0m\u001b[0;34m,\u001b[0m \u001b[0mname\u001b[0m\u001b[0;34m,\u001b[0m \u001b[0;34m*\u001b[0m\u001b[0ma\u001b[0m\u001b[0;34m)\u001b[0m\u001b[0;34m:\u001b[0m\u001b[0;34m\u001b[0m\u001b[0m\n\u001b[1;32m    145\u001b[0m         \u001b[0;34m\"\"\"Call method of java_model\"\"\"\u001b[0m\u001b[0;34m\u001b[0m\u001b[0m\n\u001b[0;32m--> 146\u001b[0;31m         \u001b[0;32mreturn\u001b[0m \u001b[0mcallJavaFunc\u001b[0m\u001b[0;34m(\u001b[0m\u001b[0mself\u001b[0m\u001b[0;34m.\u001b[0m\u001b[0m_sc\u001b[0m\u001b[0;34m,\u001b[0m \u001b[0mgetattr\u001b[0m\u001b[0;34m(\u001b[0m\u001b[0mself\u001b[0m\u001b[0;34m.\u001b[0m\u001b[0m_java_model\u001b[0m\u001b[0;34m,\u001b[0m \u001b[0mname\u001b[0m\u001b[0;34m)\u001b[0m\u001b[0;34m,\u001b[0m \u001b[0;34m*\u001b[0m\u001b[0ma\u001b[0m\u001b[0;34m)\u001b[0m\u001b[0;34m\u001b[0m\u001b[0m\n\u001b[0m\u001b[1;32m    147\u001b[0m \u001b[0;34m\u001b[0m\u001b[0m\n\u001b[1;32m    148\u001b[0m \u001b[0;34m\u001b[0m\u001b[0m\n",
      "\u001b[0;32m/usr/spark-2.4.1/python/pyspark/mllib/common.py\u001b[0m in \u001b[0;36mcallJavaFunc\u001b[0;34m(sc, func, *args)\u001b[0m\n\u001b[1;32m    121\u001b[0m     \u001b[0;34m\"\"\" Call Java Function \"\"\"\u001b[0m\u001b[0;34m\u001b[0m\u001b[0m\n\u001b[1;32m    122\u001b[0m     \u001b[0margs\u001b[0m \u001b[0;34m=\u001b[0m \u001b[0;34m[\u001b[0m\u001b[0m_py2java\u001b[0m\u001b[0;34m(\u001b[0m\u001b[0msc\u001b[0m\u001b[0;34m,\u001b[0m \u001b[0ma\u001b[0m\u001b[0;34m)\u001b[0m \u001b[0;32mfor\u001b[0m \u001b[0ma\u001b[0m \u001b[0;32min\u001b[0m \u001b[0margs\u001b[0m\u001b[0;34m]\u001b[0m\u001b[0;34m\u001b[0m\u001b[0m\n\u001b[0;32m--> 123\u001b[0;31m     \u001b[0;32mreturn\u001b[0m \u001b[0m_java2py\u001b[0m\u001b[0;34m(\u001b[0m\u001b[0msc\u001b[0m\u001b[0;34m,\u001b[0m \u001b[0mfunc\u001b[0m\u001b[0;34m(\u001b[0m\u001b[0;34m*\u001b[0m\u001b[0margs\u001b[0m\u001b[0;34m)\u001b[0m\u001b[0;34m)\u001b[0m\u001b[0;34m\u001b[0m\u001b[0m\n\u001b[0m\u001b[1;32m    124\u001b[0m \u001b[0;34m\u001b[0m\u001b[0m\n\u001b[1;32m    125\u001b[0m \u001b[0;34m\u001b[0m\u001b[0m\n",
      "\u001b[0;32m/usr/spark-2.4.1/python/lib/py4j-0.10.7-src.zip/py4j/java_gateway.py\u001b[0m in \u001b[0;36m__call__\u001b[0;34m(self, *args)\u001b[0m\n\u001b[1;32m   1253\u001b[0m             \u001b[0mproto\u001b[0m\u001b[0;34m.\u001b[0m\u001b[0mEND_COMMAND_PART\u001b[0m\u001b[0;34m\u001b[0m\u001b[0m\n\u001b[1;32m   1254\u001b[0m \u001b[0;34m\u001b[0m\u001b[0m\n\u001b[0;32m-> 1255\u001b[0;31m         \u001b[0manswer\u001b[0m \u001b[0;34m=\u001b[0m \u001b[0mself\u001b[0m\u001b[0;34m.\u001b[0m\u001b[0mgateway_client\u001b[0m\u001b[0;34m.\u001b[0m\u001b[0msend_command\u001b[0m\u001b[0;34m(\u001b[0m\u001b[0mcommand\u001b[0m\u001b[0;34m)\u001b[0m\u001b[0;34m\u001b[0m\u001b[0m\n\u001b[0m\u001b[1;32m   1256\u001b[0m         return_value = get_return_value(\n\u001b[1;32m   1257\u001b[0m             answer, self.gateway_client, self.target_id, self.name)\n",
      "\u001b[0;32m/usr/spark-2.4.1/python/lib/py4j-0.10.7-src.zip/py4j/java_gateway.py\u001b[0m in \u001b[0;36msend_command\u001b[0;34m(self, command, retry, binary)\u001b[0m\n\u001b[1;32m    983\u001b[0m         \u001b[0mconnection\u001b[0m \u001b[0;34m=\u001b[0m \u001b[0mself\u001b[0m\u001b[0;34m.\u001b[0m\u001b[0m_get_connection\u001b[0m\u001b[0;34m(\u001b[0m\u001b[0;34m)\u001b[0m\u001b[0;34m\u001b[0m\u001b[0m\n\u001b[1;32m    984\u001b[0m         \u001b[0;32mtry\u001b[0m\u001b[0;34m:\u001b[0m\u001b[0;34m\u001b[0m\u001b[0m\n\u001b[0;32m--> 985\u001b[0;31m             \u001b[0mresponse\u001b[0m \u001b[0;34m=\u001b[0m \u001b[0mconnection\u001b[0m\u001b[0;34m.\u001b[0m\u001b[0msend_command\u001b[0m\u001b[0;34m(\u001b[0m\u001b[0mcommand\u001b[0m\u001b[0;34m)\u001b[0m\u001b[0;34m\u001b[0m\u001b[0m\n\u001b[0m\u001b[1;32m    986\u001b[0m             \u001b[0;32mif\u001b[0m \u001b[0mbinary\u001b[0m\u001b[0;34m:\u001b[0m\u001b[0;34m\u001b[0m\u001b[0m\n\u001b[1;32m    987\u001b[0m                 \u001b[0;32mreturn\u001b[0m \u001b[0mresponse\u001b[0m\u001b[0;34m,\u001b[0m \u001b[0mself\u001b[0m\u001b[0;34m.\u001b[0m\u001b[0m_create_connection_guard\u001b[0m\u001b[0;34m(\u001b[0m\u001b[0mconnection\u001b[0m\u001b[0;34m)\u001b[0m\u001b[0;34m\u001b[0m\u001b[0m\n",
      "\u001b[0;32m/usr/spark-2.4.1/python/lib/py4j-0.10.7-src.zip/py4j/java_gateway.py\u001b[0m in \u001b[0;36msend_command\u001b[0;34m(self, command)\u001b[0m\n\u001b[1;32m   1150\u001b[0m \u001b[0;34m\u001b[0m\u001b[0m\n\u001b[1;32m   1151\u001b[0m         \u001b[0;32mtry\u001b[0m\u001b[0;34m:\u001b[0m\u001b[0;34m\u001b[0m\u001b[0m\n\u001b[0;32m-> 1152\u001b[0;31m             \u001b[0manswer\u001b[0m \u001b[0;34m=\u001b[0m \u001b[0msmart_decode\u001b[0m\u001b[0;34m(\u001b[0m\u001b[0mself\u001b[0m\u001b[0;34m.\u001b[0m\u001b[0mstream\u001b[0m\u001b[0;34m.\u001b[0m\u001b[0mreadline\u001b[0m\u001b[0;34m(\u001b[0m\u001b[0;34m)\u001b[0m\u001b[0;34m[\u001b[0m\u001b[0;34m:\u001b[0m\u001b[0;34m-\u001b[0m\u001b[0;36m1\u001b[0m\u001b[0;34m]\u001b[0m\u001b[0;34m)\u001b[0m\u001b[0;34m\u001b[0m\u001b[0m\n\u001b[0m\u001b[1;32m   1153\u001b[0m             \u001b[0mlogger\u001b[0m\u001b[0;34m.\u001b[0m\u001b[0mdebug\u001b[0m\u001b[0;34m(\u001b[0m\u001b[0;34m\"Answer received: {0}\"\u001b[0m\u001b[0;34m.\u001b[0m\u001b[0mformat\u001b[0m\u001b[0;34m(\u001b[0m\u001b[0manswer\u001b[0m\u001b[0;34m)\u001b[0m\u001b[0;34m)\u001b[0m\u001b[0;34m\u001b[0m\u001b[0m\n\u001b[1;32m   1154\u001b[0m             \u001b[0;32mif\u001b[0m \u001b[0manswer\u001b[0m\u001b[0;34m.\u001b[0m\u001b[0mstartswith\u001b[0m\u001b[0;34m(\u001b[0m\u001b[0mproto\u001b[0m\u001b[0;34m.\u001b[0m\u001b[0mRETURN_MESSAGE\u001b[0m\u001b[0;34m)\u001b[0m\u001b[0;34m:\u001b[0m\u001b[0;34m\u001b[0m\u001b[0m\n",
      "\u001b[0;32m/usr/lib/python3.5/socket.py\u001b[0m in \u001b[0;36mreadinto\u001b[0;34m(self, b)\u001b[0m\n\u001b[1;32m    574\u001b[0m         \u001b[0;32mwhile\u001b[0m \u001b[0;32mTrue\u001b[0m\u001b[0;34m:\u001b[0m\u001b[0;34m\u001b[0m\u001b[0m\n\u001b[1;32m    575\u001b[0m             \u001b[0;32mtry\u001b[0m\u001b[0;34m:\u001b[0m\u001b[0;34m\u001b[0m\u001b[0m\n\u001b[0;32m--> 576\u001b[0;31m                 \u001b[0;32mreturn\u001b[0m \u001b[0mself\u001b[0m\u001b[0;34m.\u001b[0m\u001b[0m_sock\u001b[0m\u001b[0;34m.\u001b[0m\u001b[0mrecv_into\u001b[0m\u001b[0;34m(\u001b[0m\u001b[0mb\u001b[0m\u001b[0;34m)\u001b[0m\u001b[0;34m\u001b[0m\u001b[0m\n\u001b[0m\u001b[1;32m    577\u001b[0m             \u001b[0;32mexcept\u001b[0m \u001b[0mtimeout\u001b[0m\u001b[0;34m:\u001b[0m\u001b[0;34m\u001b[0m\u001b[0m\n\u001b[1;32m    578\u001b[0m                 \u001b[0mself\u001b[0m\u001b[0;34m.\u001b[0m\u001b[0m_timeout_occurred\u001b[0m \u001b[0;34m=\u001b[0m \u001b[0;32mTrue\u001b[0m\u001b[0;34m\u001b[0m\u001b[0m\n",
      "\u001b[0;31mKeyboardInterrupt\u001b[0m: "
     ]
    }
   ],
   "source": [
    "svd = mat.computeSVD(16)"
   ]
  },
  {
   "cell_type": "markdown",
   "metadata": {},
   "source": [
    "#### Encode Label Columns \n",
    "\n",
    "Create on column with array of 0 and 1"
   ]
  },
  {
   "cell_type": "code",
   "execution_count": null,
   "metadata": {},
   "outputs": [],
   "source": [
    "from pyspark.sql.functions import  lit, col\n",
    "\n",
    "label_col = [ col(name) for name in response_cols]\n",
    "\n",
    "def encode_response(x):\n",
    "    return when(col(x).isNull(), float(0)).otherwise(float(1))\n",
    "\n",
    "for column in response_cols:\n",
    "    df = df.withColumn(column, encode_response(column))\n",
    "    \n",
    "\n",
    "df = df.withColumn(\"label\", col(\"like_timestamp\"))"
   ]
  },
  {
   "cell_type": "code",
   "execution_count": null,
   "metadata": {},
   "outputs": [],
   "source": [
    "splits = df.select(\"features\", \"label\").randomSplit([0.8, 0.2], seed=1234)\n",
    "train = splits[0]\n",
    "test = splits[1]"
   ]
  },
  {
   "cell_type": "code",
   "execution_count": null,
   "metadata": {},
   "outputs": [],
   "source": [
    "# create the trainer and set its parameters\n",
    "from pyspark.ml.classification import MultilayerPerceptronClassifier\n",
    "\n",
    "layers = [93549, 128, 64, 34, 1]\n",
    "\n",
    "trainer = MultilayerPerceptronClassifier(\n",
    "  layers=layers,\n",
    "  blockSize=128,\n",
    "  seed=1234,\n",
    "  maxIter=100)\n",
    "\n",
    "# train the model\n",
    "model = trainer.fit(train)"
   ]
  },
  {
   "cell_type": "code",
   "execution_count": null,
   "metadata": {},
   "outputs": [],
   "source": [
    "# compute accuracy on the test set\n",
    "from pyspark.ml.evaluation import MulticlassClassificationEvaluator\n",
    "val result = model.transform(test)\n",
    "val predictionAndLabels = result.select(\"prediction\", \"label\")\n",
    "val evaluator = new MulticlassClassificationEvaluator()\n",
    "  .setMetricName(\"accuracy\")"
   ]
  },
  {
   "cell_type": "code",
   "execution_count": null,
   "metadata": {},
   "outputs": [],
   "source": []
  },
  {
   "cell_type": "code",
   "execution_count": null,
   "metadata": {},
   "outputs": [],
   "source": []
  },
  {
   "cell_type": "code",
   "execution_count": null,
   "metadata": {},
   "outputs": [],
   "source": []
  }
 ],
 "metadata": {
  "kernelspec": {
   "display_name": "Python 3",
   "language": "python",
   "name": "python3"
  },
  "language_info": {
   "codemirror_mode": {
    "name": "ipython",
    "version": 3
   },
   "file_extension": ".py",
   "mimetype": "text/x-python",
   "name": "python",
   "nbconvert_exporter": "python",
   "pygments_lexer": "ipython3",
   "version": "3.5.3"
  }
 },
 "nbformat": 4,
 "nbformat_minor": 4
}
