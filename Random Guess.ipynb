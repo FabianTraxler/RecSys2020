{
 "cells": [
  {
   "cell_type": "markdown",
   "metadata": {},
   "source": [
    "# Random Guess on Test Data"
   ]
  },
  {
   "cell_type": "code",
   "execution_count": 1,
   "metadata": {},
   "outputs": [],
   "source": [
    "import findspark\n",
    "findspark.init(\"/usr/spark-2.4.1\")\n",
    "import pyspark\n",
    "from pyspark import SQLContext, SparkConf\n",
    "\n",
    "from pyspark.sql.functions import rand,when\n",
    "\n",
    "\n",
    "conf = SparkConf().setAppName(\"RecSys Challenge\")\n",
    "conf = (conf.set(\"deploy-mode\",\"local\")\n",
    "       .set(\"spark.driver.memory\",\"16g\")\n",
    "       .set(\"spark.executor.memory\",\"16gb\")\n",
    "       .set(\"spark.driver.cores\",\"1\")\n",
    "       .set(\"spark.num.executors\",\"1\")\n",
    "       .set(\"spark.executor.cores\",\"1\")\n",
    "       .set(\"spark.driver.maxResultSize\", \"100g\"))\n",
    "\n",
    "sc = pyspark.SparkContext()\n",
    "sql = SQLContext(sc)"
   ]
  },
  {
   "cell_type": "code",
   "execution_count": 2,
   "metadata": {},
   "outputs": [],
   "source": [
    "datafile = \"data/val.tsv\"\n",
    "\n",
    "df = (sql.read\n",
    "    .format(\"csv\")\n",
    "    .option(\"header\", \"false\")\n",
    "    .option(\"sep\", \"\\x01\")\n",
    "    .load(datafile,  inferSchema=\"true\")\n",
    "    .toDF(\"text_tokens\", \"hashtags\", \"tweet_id\", \"present_media\", \"present_links\", \"present_domains\",\"tweet_type\", \"language\", \"tweet_timestamp\", \"engaged_with_user_id\", \"engaged_with_user_follower_count\",\"engaged_with_user_following_count\", \"engaged_with_user_is_verified\", \"engaged_with_user_account_creation\",\\\n",
    "               \"engaging_user_id\", \"engaging_user_follower_count\", \"engaging_user_following_count\", \"engaging_user_is_verified\",\"engaging_user_account_creation\", \"engaged_follows_engaging\"))"
   ]
  },
  {
   "cell_type": "code",
   "execution_count": 3,
   "metadata": {},
   "outputs": [],
   "source": [
    "df = df.select(\"tweet_id\", \"engaging_user_id\").withColumnRenamed(\"tweet_id\", \"Tweet_Id\").withColumnRenamed(\"engaging_user_id\", \"User_Id\")"
   ]
  },
  {
   "cell_type": "code",
   "execution_count": 4,
   "metadata": {},
   "outputs": [],
   "source": [
    "df = df.withColumn('Prediction',rand())"
   ]
  },
  {
   "cell_type": "code",
   "execution_count": 5,
   "metadata": {},
   "outputs": [
    {
     "data": {
      "text/plain": [
       "[Row(Tweet_Id='7647B4E9DAF4C1D8973397DC2A04F3E3', User_Id='0000006C3074607050F1339DDCB890BB', Prediction=0.14251597257530868)]"
      ]
     },
     "execution_count": 5,
     "metadata": {},
     "output_type": "execute_result"
    }
   ],
   "source": [
    "df.take(1)"
   ]
  },
  {
   "cell_type": "code",
   "execution_count": 6,
   "metadata": {},
   "outputs": [],
   "source": [
    "df.coalesce(1).write.option(\"header\", \"false\").csv(\"val_pred\")"
   ]
  },
  {
   "cell_type": "code",
   "execution_count": 7,
   "metadata": {},
   "outputs": [
    {
     "data": {
      "text/plain": [
       "12434735"
      ]
     },
     "execution_count": 7,
     "metadata": {},
     "output_type": "execute_result"
    }
   ],
   "source": [
    "df.count()"
   ]
  },
  {
   "cell_type": "code",
   "execution_count": null,
   "metadata": {},
   "outputs": [],
   "source": []
  }
 ],
 "metadata": {
  "kernelspec": {
   "display_name": "Python 3",
   "language": "python",
   "name": "python3"
  },
  "language_info": {
   "codemirror_mode": {
    "name": "ipython",
    "version": 3
   },
   "file_extension": ".py",
   "mimetype": "text/x-python",
   "name": "python",
   "nbconvert_exporter": "python",
   "pygments_lexer": "ipython3",
   "version": "3.5.3"
  }
 },
 "nbformat": 4,
 "nbformat_minor": 4
}
