{
 "cells": [
  {
   "cell_type": "markdown",
   "metadata": {},
   "source": [
    "# Baseline Approach\n",
    "\n",
    "This Notebook tries to implement the baseline approach described in the paper accompanind the Exam: \n",
    "\n",
    "- [Privacy-Preserving Recommender Systems Challenge on Twitter’s HomeTimeline]{https://arxiv.org/pdf/2004.13715.pdf}\n",
    "\n",
    "The baseline approch is described in chapter 5.3"
   ]
  },
  {
   "cell_type": "code",
   "execution_count": 1,
   "metadata": {},
   "outputs": [],
   "source": [
    "#import findspark\n",
    "#findspark.init(\"/usr/spark-2.4.1\")\n",
    "import pyspark\n",
    "from pyspark import SQLContext\n",
    "\n",
    "import numpy as np"
   ]
  },
  {
   "cell_type": "code",
   "execution_count": null,
   "metadata": {},
   "outputs": [],
   "source": [
    "# Set Spark Config\n",
    "conf = SparkConf().setAppName(\"RecSys-Challenge-Baseline-Approach\").setMaster(\"yarn\")\n",
    "conf = (conf.set(\"deploy-mode\",\"cluster\")\n",
    "       .set(\"spark.driver.memory\",\"100g\")\n",
    "       .set(\"spark.executor.memory\",\"100g\")\n",
    "       .set(\"spark.driver.cores\",\"1\")\n",
    "       .set(\"spark.num.executors\",\"100\")\n",
    "       .set(\"spark.executor.cores\",\"4\")\n",
    "       .set(\"spark.driver.maxResultSize\", \"100g\"))\n",
    "sc = pyspark.SparkContext(conf=conf)\n",
    "sql = SQLContext(sc)\n",
    "\n",
    "\n",
    "sc = pyspark.SparkContext()\n",
    "sql = SQLContext(sc)"
   ]
  },
  {
   "cell_type": "markdown",
   "metadata": {},
   "source": [
    "## Data Loading\n",
    "\n",
    "Read Sample Data as Spark DataFrame and assign column names according to RecSys Challenge Documentation"
   ]
  },
  {
   "cell_type": "code",
   "execution_count": null,
   "metadata": {},
   "outputs": [],
   "source": [
    "datafile = \"hdfs:///user/e1553958/reysys/data/training_sample.tsv\"\n",
    "\n",
    "df = (sql.read\n",
    "    .format(\"csv\")\n",
    "    .option(\"header\", \"false\")\n",
    "    .option(\"sep\", \"\\x01\")\n",
    "    .load(datafile,  inferSchema=\"true\")\n",
    "    .toDF(\"text_tokens\", \"hashtags\", \"tweet_id\", \"present_media\", \"present_links\", \"present_domains\",\"tweet_type\", \"language\", \"tweet_timestamp\", \"engaged_with_user_id\", \"engaged_with_user_follower_count\",\"engaged_with_user_following_count\", \"engaged_with_user_is_verified\", \"engaged_with_user_account_creation\",\\\n",
    "               \"engaging_user_id\", \"engaging_user_follower_count\", \"engaging_user_following_count\", \"engaging_user_is_verified\",\"engaging_user_account_creation\", \"engaged_follows_engaging\", \"reply_timestamp\", \"retweet_timestamp\", \"retweet_with_comment_timestamp\", \"like_timestamp\"))"
   ]
  },
  {
   "cell_type": "code",
   "execution_count": null,
   "metadata": {},
   "outputs": [],
   "source": [
    "df"
   ]
  },
  {
   "cell_type": "code",
   "execution_count": null,
   "metadata": {},
   "outputs": [],
   "source": [
    "# Change the boolean variables to interger (0 and 1)\n",
    "from pyspark.sql.functions import col, split, when, array\n",
    "df = df.withColumn(\"engaged_with_user_is_verified\",col(\"engaged_with_user_is_verified\").cast(\"Integer\"))\n",
    "df = df.withColumn(\"engaging_user_is_verified\",col(\"engaging_user_is_verified\").cast(\"Integer\"))\n",
    "df = df.withColumn(\"engaged_follows_engaging\",col(\"engaged_follows_engaging\").cast(\"Integer\"))"
   ]
  },
  {
   "cell_type": "code",
   "execution_count": null,
   "metadata": {},
   "outputs": [],
   "source": [
    "# Split the string representations of lists\n",
    "## Convert the text tokens to array of ints\n",
    "split_text = pyspark.sql.functions.split(df['text_tokens'], '\\t')\n",
    "df = df.withColumn(\"text_tokens\", split_text)\n",
    "\n",
    "## Convert present media to array of strings\n",
    "split_text = pyspark.sql.functions.split(df['present_media'], '\\t')\n",
    "df = df.withColumn(\"present_media\", when(col('present_media').isNull(), array().cast(\"array<string>\")).otherwise(split_text))\n",
    "\n",
    "## Convert present links to array of strings\n",
    "split_text = pyspark.sql.functions.split(df['present_links'], '\\t')\n",
    "df = df.withColumn(\"present_links\", when(col('present_links').isNull(), array().cast(\"array<string>\")).otherwise(split_text))\n",
    "\n",
    "## Convert hashtags to array of strings\n",
    "split_text = pyspark.sql.functions.split(df['hashtags'], '\\t')\n",
    "df = df.withColumn(\"hashtags\", when(col('hashtags').isNull(), array().cast(\"array<string>\")).otherwise(split_text))\n",
    "\n",
    "## Convert present_domains to array of strings\n",
    "split_text = pyspark.sql.functions.split(df['present_domains'], '\\t')\n",
    "df = df.withColumn(\"present_domains\", when(col('present_domains').isNull(), array().cast(\"array<string>\")).otherwise(split_text))\n"
   ]
  },
  {
   "cell_type": "code",
   "execution_count": null,
   "metadata": {},
   "outputs": [],
   "source": [
    "df.take(1)"
   ]
  },
  {
   "cell_type": "code",
   "execution_count": null,
   "metadata": {},
   "outputs": [],
   "source": [
    "numeric_cols = ['engaged_with_user_follower_count', \n",
    "                'engaged_with_user_following_count', \n",
    "                'engaged_with_user_account_creation',\n",
    "                'engaging_user_follower_count', \n",
    "                'engaging_user_following_count',\n",
    "                'engaging_user_account_creation',\n",
    "                'tweet_timestamp',\n",
    "               ]\n",
    "\n",
    "\n",
    "categorical_cols = ['tweet_type', 'language', \n",
    "                    'engaged_with_user_is_verified', 'engaging_user_is_verified', 'engaged_follows_engaging']\n",
    "\n",
    "id_cols = ['tweet_id', 'engaged_with_user_id', 'engaging_user_id']\n",
    "\n",
    "response_cols = ['reply_timestamp', \n",
    "                 'retweet_timestamp',\n",
    "                 'retweet_with_comment_timestamp', \n",
    "                 'like_timestamp'\n",
    "                ]\n",
    "\n",
    "tweet_feature_cols = ['text_tokens', 'hashtags', 'present_media', 'present_links', 'present_domains']"
   ]
  },
  {
   "cell_type": "markdown",
   "metadata": {},
   "source": [
    "### Helper Functions"
   ]
  },
  {
   "cell_type": "code",
   "execution_count": null,
   "metadata": {},
   "outputs": [],
   "source": [
    "from pyspark.ml.feature import QuantileDiscretizer, StringIndexer, FeatureHasher, OneHotEncoderEstimator, CountVectorizer,PCA, VectorAssembler\n",
    "\n",
    "nq = 50 # number of quantiles to use\n",
    "\n",
    "def create_quantilesDiscretizer(input_col: str) -> QuantileDiscretizer:\n",
    "    \"\"\"\n",
    "    Create a Quantile Discretizer for a specified column \n",
    "    Uses as output colum the input + _discretized\n",
    "    \n",
    "    Parameters\n",
    "    ----------\n",
    "    input_col: str\n",
    "        Name of the Input Column\n",
    "        \n",
    "    Return\n",
    "    ------\n",
    "    QuantileDiscretizer\n",
    "    \"\"\"\n",
    "    output_col = input_col + \"_discretized\"\n",
    "    return QuantileDiscretizer(numBuckets=nq,\n",
    "                                  relativeError=0.,\n",
    "                                  handleInvalid='keep',\n",
    "                                  inputCol=input_col,\n",
    "                                  outputCol=output_col)\n",
    "\n",
    "def create_stringIndexer(input_col):\n",
    "    \"\"\"\n",
    "    Create a String Indexer for a specified column \n",
    "    Uses as output colum the input + _indexed\n",
    "    \n",
    "    Parameters\n",
    "    ----------\n",
    "    input_col: str\n",
    "        Name of the Input Column\n",
    "        \n",
    "    Return\n",
    "    ------\n",
    "    StringIndexer\n",
    "    \"\"\"\n",
    "    output_col = input_col + \"_indexed\"\n",
    "    return StringIndexer(inputCol=input_col,\n",
    "                         outputCol=output_col,\n",
    "                        handleInvalid='keep',)\n",
    "\n",
    "\n",
    "def create_featureHasher(input_col):\n",
    "    \"\"\"\n",
    "    Create a Feature Hasher for a specified column \n",
    "    Uses as output colum the input + _oneHot (creates oneHotEncodings for strings)\n",
    "    \n",
    "    Parameters\n",
    "    ----------\n",
    "    input_col: str\n",
    "        Name of the Input Column\n",
    "        \n",
    "    Return\n",
    "    ------\n",
    "    FeatureHasher\n",
    "    \"\"\"\n",
    "    output_col = input_col + \"_oneHot\"\n",
    "    return FeatureHasher(numFeatures=nq,\n",
    "                         inputCols=[input_col],\n",
    "                         outputCol=output_col)\n",
    "\n",
    "\n",
    "def create_countVectorizer(input_col):\n",
    "    output_col = input_col + \"_vectorized\"\n",
    "    return CountVectorizer(inputCol=input_col,\n",
    "                           outputCol=output_col)\n"
   ]
  },
  {
   "cell_type": "markdown",
   "metadata": {},
   "source": [
    "#### Create Transformer"
   ]
  },
  {
   "cell_type": "code",
   "execution_count": null,
   "metadata": {},
   "outputs": [],
   "source": [
    "# Encode Numeric Features (5.3.1)\n",
    "quantile_discretizers_numeric = [ create_quantilesDiscretizer(col) for col in numeric_cols ]\n",
    "\n",
    "# Encode Categorical Features (5.3.2)\n",
    "string_indexer_categorical = [ create_stringIndexer(col) for col in categorical_cols]\n",
    "\n",
    "# Encode ID Features (5.3.3)\n",
    "id_feature_hashers = [ create_featureHasher(col) for col in id_cols]\n",
    "\n",
    "# Encode Tweet Features (5.3.4 + 5.3.5)\n",
    "tweet_countVectorizers = [ create_countVectorizer(col) for col in tweet_feature_cols]\n",
    "\n",
    "\n",
    "# One-Hot-Encode Features\n",
    "columns_to_encode = [ col+\"_discretized\" for col in numeric_cols]\n",
    "columns_to_encode.extend([ col+\"_indexed\" for col in categorical_cols])\n",
    "encoded_columns = [ col+\"_oneHot\" for col in numeric_cols]\n",
    "encoded_columns.extend([ col+\"_onHot\" for col in categorical_cols])\n",
    "\n",
    "onHotEncoder = OneHotEncoderEstimator(inputCols=columns_to_encode, \n",
    "                                      outputCols=encoded_columns,dropLast=False,handleInvalid=\"keep\" )\n",
    "\n",
    "\n",
    "\n",
    "# Add Vectors with VectorAssembler\n",
    "encoded_columns.extend([ col+\"_oneHot\" for col in id_cols ])\n",
    "num_cat_id_feature_assambler = VectorAssembler(inputCols=encoded_columns,\n",
    "                                               outputCol=\"non_tweet_features\")\n",
    "\n",
    "tweet_features_encoded = [ col+\"_vectorized\" for col in tweet_feature_cols]\n",
    "tweet_feature_assambler = VectorAssembler(inputCols=tweet_features_encoded,\n",
    "                                               outputCol=\"tweet_features\")\n",
    "\n",
    "# Perform Dimensionality Reduction\n",
    "\n",
    "#non_tweet_pca = PCA(k=16, \n",
    "#          inputCol=\"non_tweet_features\", \n",
    "#          outputCol=\"non_tweet_features_reduced\")\n",
    "\n",
    "#tweet_pca = PCA(k=16, \n",
    "#          inputCol=\"tweet_features\", \n",
    "#          outputCol=\"tweet_features_reduced\")\n",
    "\n",
    "features = ['non_tweet_features', 'tweet_features']\n",
    "feature_assambler = VectorAssembler(inputCols=features,\n",
    "                                               outputCol=\"features\")"
   ]
  },
  {
   "cell_type": "code",
   "execution_count": null,
   "metadata": {},
   "outputs": [],
   "source": [
    "from pyspark.ml import Pipeline\n",
    "\n",
    "\n",
    "# create a list of all transformers\n",
    "stages = list()\n",
    "stages.extend(quantile_discretizers_numeric)\n",
    "stages.extend(string_indexer_categorical)\n",
    "stages.extend(id_feature_hashers)\n",
    "stages.append(onHotEncoder)\n",
    "stages.extend(tweet_countVectorizers)\n",
    "stages.append(num_cat_id_feature_assambler)\n",
    "stages.append(tweet_feature_assambler)\n",
    "#stages.append(non_tweet_pca)\n",
    "#stages.append(tweet_pca)\n",
    "stages.append(feature_assambler)\n",
    "\n",
    "pipeline = Pipeline(stages=stages)"
   ]
  },
  {
   "cell_type": "code",
   "execution_count": null,
   "metadata": {},
   "outputs": [],
   "source": [
    "# fit and transform dataframe\n",
    "df = pipeline.fit(df).transform(df)"
   ]
  },
  {
   "cell_type": "code",
   "execution_count": null,
   "metadata": {},
   "outputs": [],
   "source": [
    "df.select('features').take(1)"
   ]
  },
  {
   "cell_type": "markdown",
   "metadata": {},
   "source": [
    "#### Encode Label Columns \n",
    "\n",
    "Create on column with array of 0 and 1"
   ]
  },
  {
   "cell_type": "code",
   "execution_count": null,
   "metadata": {},
   "outputs": [],
   "source": [
    "from pyspark.sql.functions import  lit, col\n",
    "\n",
    "label_col = [ col(name) for name in response_cols]\n",
    "\n",
    "def encode_response(x):\n",
    "    return when(col(x).isNull(), float(0)).otherwise(float(1))\n",
    "\n",
    "for column in response_cols:\n",
    "    df = df.withColumn(column, encode_response(column))\n",
    "    \n",
    "# for now only use likes as target\n",
    "df = df.withColumn(\"label\", col(\"like_timestamp\"))"
   ]
  },
  {
   "cell_type": "code",
   "execution_count": null,
   "metadata": {},
   "outputs": [],
   "source": [
    "splits = df.select(\"features\", \"label\").randomSplit([0.8, 0.2], seed=1234)\n",
    "train = splits[0]\n",
    "test = splits[1]"
   ]
  },
  {
   "cell_type": "code",
   "execution_count": null,
   "metadata": {},
   "outputs": [],
   "source": [
    "# create the trainer and set its parameters\n",
    "from pyspark.ml.classification import MultilayerPerceptronClassifier\n",
    "\n",
    "layers = [93549, 128, 64, 34, 1]\n",
    "\n",
    "trainer = MultilayerPerceptronClassifier(\n",
    "  layers=layers,\n",
    "  blockSize=128,\n",
    "  seed=1234,\n",
    "  maxIter=100)\n",
    "\n",
    "# train the model\n",
    "model = trainer.fit(train)"
   ]
  },
  {
   "cell_type": "code",
   "execution_count": null,
   "metadata": {},
   "outputs": [],
   "source": [
    "# compute accuracy on the test set\n",
    "from pyspark.ml.evaluation import MulticlassClassificationEvaluator\n",
    "val result = model.transform(test)\n",
    "val predictionAndLabels = result.select(\"prediction\", \"label\")\n",
    "val evaluator = new MulticlassClassificationEvaluator()\n",
    "  .setMetricName(\"accuracy\")"
   ]
  },
  {
   "cell_type": "code",
   "execution_count": null,
   "metadata": {},
   "outputs": [],
   "source": []
  },
  {
   "cell_type": "code",
   "execution_count": null,
   "metadata": {},
   "outputs": [],
   "source": []
  },
  {
   "cell_type": "code",
   "execution_count": null,
   "metadata": {},
   "outputs": [],
   "source": []
  }
 ],
 "metadata": {
  "kernelspec": {
   "display_name": "Python 3",
   "language": "python",
   "name": "python3"
  },
  "language_info": {
   "codemirror_mode": {
    "name": "ipython",
    "version": 3
   },
   "file_extension": ".py",
   "mimetype": "text/x-python",
   "name": "python",
   "nbconvert_exporter": "python",
   "pygments_lexer": "ipython3",
   "version": "3.6.6"
  }
 },
 "nbformat": 4,
 "nbformat_minor": 4
}
