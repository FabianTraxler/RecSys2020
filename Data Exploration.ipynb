{
 "cells": [
  {
   "cell_type": "markdown",
   "metadata": {},
   "source": [
    "# Data Exploration"
   ]
  },
  {
   "cell_type": "code",
   "execution_count": 1,
   "metadata": {},
   "outputs": [],
   "source": [
    "import findspark\n",
    "findspark.init(\"/usr/spark-2.4.1\")\n",
    "import pyspark\n",
    "from pyspark import SQLContext\n",
    "\n",
    "import numpy as np"
   ]
  },
  {
   "cell_type": "code",
   "execution_count": 2,
   "metadata": {},
   "outputs": [],
   "source": [
    "sc = pyspark.SparkContext()\n",
    "sql = SQLContext(sc)"
   ]
  },
  {
   "cell_type": "markdown",
   "metadata": {},
   "source": [
    "## Data Loading\n",
    "\n",
    "Read Sample Data as Spark DataFrame and assign column names according to RecSys Challenge Documentation"
   ]
  },
  {
   "cell_type": "code",
   "execution_count": 3,
   "metadata": {},
   "outputs": [],
   "source": [
    "datafile = \"data/training_sample.tsv\"\n",
    "\n",
    "df = (sql.read\n",
    "    .format(\"csv\")\n",
    "    .option(\"header\", \"false\")\n",
    "    .option(\"sep\", \"\\x01\")\n",
    "    .load(datafile,  inferSchema=\"true\")\n",
    "    .toDF(\"text_tokens\", \"hashtags\", \"tweet_id\", \"present_media\", \"present_links\", \"present_domains\",\"tweet_type\", \"language\", \"tweet_timestamp\", \"engaged_with_user_id\", \"engaged_with_user_follower_count\",\"engaged_with_user_following_count\", \"engaged_with_user_is_verified\", \"engaged_with_user_account_creation\",\\\n",
    "               \"engaging_user_id\", \"engaging_user_follower_count\", \"engaging_user_following_count\", \"engaging_user_is_verified\",\"engaging_user_account_creation\", \"engaged_follows_engaging\", \"reply_timestamp\", \"retweet_timestamp\", \"retweet_with_comment_timestamp\", \"like_timestamp\"))"
   ]
  },
  {
   "cell_type": "code",
   "execution_count": 4,
   "metadata": {},
   "outputs": [
    {
     "data": {
      "text/plain": [
       "DataFrame[text_tokens: string, hashtags: string, tweet_id: string, present_media: string, present_links: string, present_domains: string, tweet_type: string, language: string, tweet_timestamp: int, engaged_with_user_id: string, engaged_with_user_follower_count: int, engaged_with_user_following_count: int, engaged_with_user_is_verified: boolean, engaged_with_user_account_creation: int, engaging_user_id: string, engaging_user_follower_count: int, engaging_user_following_count: int, engaging_user_is_verified: boolean, engaging_user_account_creation: int, engaged_follows_engaging: boolean, reply_timestamp: double, retweet_timestamp: double, retweet_with_comment_timestamp: double, like_timestamp: double]"
      ]
     },
     "execution_count": 4,
     "metadata": {},
     "output_type": "execute_result"
    }
   ],
   "source": [
    "df"
   ]
  },
  {
   "cell_type": "code",
   "execution_count": 5,
   "metadata": {},
   "outputs": [],
   "source": [
    "from pyspark.sql.functions import col\n",
    "df = df.withColumn(\"engaged_with_user_is_verified\",col(\"engaged_with_user_is_verified\").cast(\"Integer\"))\n",
    "df = df.withColumn(\"engaging_user_is_verified\",col(\"engaging_user_is_verified\").cast(\"Integer\"))\n",
    "df = df.withColumn(\"engaged_follows_engaging\",col(\"engaged_follows_engaging\").cast(\"Integer\"))"
   ]
  },
  {
   "cell_type": "code",
   "execution_count": 6,
   "metadata": {},
   "outputs": [],
   "source": [
    "numeric_cols = ['engaged_with_user_follower_count', \n",
    "                'engaged_with_user_following_count', \n",
    "                'engaged_with_user_account_creation',\n",
    "                'engaging_user_follower_count', \n",
    "                'engaging_user_following_count',\n",
    "                'engaging_user_account_creation',\n",
    "                'tweet_timestamp',\n",
    "               ]\n",
    "\n",
    "\n",
    "categorical_cols = ['tweet_type', 'language', \n",
    "                    'engaged_with_user_is_verified', 'engaging_user_is_verified', 'engaged_follows_engaging']\n",
    "\n",
    "id_cols = ['tweet_id', 'engaged_with_user_id', 'engaging_user_id']\n",
    "\n",
    "response_cols = ['reply_timestamp', \n",
    "                 'retweet_timestamp',\n",
    "                 'retweet_with_comment_timestamp', \n",
    "                 'like_timestamp'\n",
    "                ]\n",
    "\n",
    "tweet_feature_cols = ['text_tokens', 'hashtags', 'present_media', 'present_links', 'present_domains']"
   ]
  },
  {
   "cell_type": "code",
   "execution_count": 7,
   "metadata": {},
   "outputs": [],
   "source": [
    "from pyspark.ml.feature import QuantileDiscretizer, OneHotEncoder, StringIndexer, FeatureHasher\n",
    "\n",
    "nq = 50 # number of quantiles to use\n",
    "\n",
    "def create_quantilesDiscretizer(input_col):\n",
    "    output_col = input_col + \"_discretized\"\n",
    "    return QuantileDiscretizer(numBuckets=nq,\n",
    "                                  relativeError=0.,\n",
    "                                  handleInvalid='keep',\n",
    "                                  inputCol=input_col,\n",
    "                                  outputCol=output_col)\n",
    "\n",
    "def create_oneHotEncoder(input_col):\n",
    "    output_col = input_col + \"_oneHot\"\n",
    "    return OneHotEncoder(inputCol=input_col,\n",
    "                         outputCol=output_col, dropLast=False)\n",
    "\n",
    "def create_stringIndexer(input_col):\n",
    "    output_col = input_col + \"_indexed\"\n",
    "    return StringIndexer(inputCol=input_col,\n",
    "                         outputCol=output_col)\n",
    "\n",
    "\n",
    "def create_featureHasher(input_col):\n",
    "    output_col = input_col + \"_oneHot\"\n",
    "    return FeatureHasher(numFeatures=nq,\n",
    "                         inputCols=[input_col],\n",
    "                         outputCol=output_col)\n"
   ]
  },
  {
   "cell_type": "code",
   "execution_count": 8,
   "metadata": {},
   "outputs": [],
   "source": [
    "quantile_discretizers_numeric = [ create_quantilesDiscretizer(col) for col in numeric_cols ]\n",
    "one_hot_encoders_numeric = [ create_oneHotEncoder(col+\"_discretized\") for col in numeric_cols]\n",
    "\n",
    "\n",
    "string_indexer_categorical = [ create_stringIndexer(col) for col in categorical_cols]\n",
    "one_hot_encoder_categorical = [ create_oneHotEncoder(col+\"_indexed\") for col in categorical_cols]\n",
    "\n",
    "id_feature_hashers = [ create_featureHasher(col) for col in id_cols]\n",
    "\n",
    "\n",
    "stages = list()\n",
    "\n",
    "stages.extend(quantile_discretizers_numeric)\n",
    "stages.extend(one_hot_encoders_numeric)\n",
    "stages.extend(string_indexer_categorical)\n",
    "stages.extend(one_hot_encoder_categorical)\n",
    "stages.extend(id_feature_hashers)\n"
   ]
  },
  {
   "cell_type": "code",
   "execution_count": 9,
   "metadata": {},
   "outputs": [],
   "source": [
    "from pyspark.ml import Pipeline\n",
    "\n",
    "pipeline = Pipeline(stages=stages)"
   ]
  },
  {
   "cell_type": "code",
   "execution_count": 10,
   "metadata": {},
   "outputs": [],
   "source": [
    "df = pipeline.fit(df).transform(df)"
   ]
  },
  {
   "cell_type": "code",
   "execution_count": 11,
   "metadata": {},
   "outputs": [
    {
     "data": {
      "text/plain": [
       "[Row(text_tokens='101\\t56898\\t137\\t174\\t63247\\t10526\\t131\\t3197\\t8747\\t8747\\t6455\\t3205\\t14120\\t131\\t120\\t120\\t188\\t119\\t11170\\t120\\t176\\t11090\\t10305\\t10686\\t11211\\t10116\\t11127\\t10237\\t11779\\t11517\\t102', hashtags=None, tweet_id='3C21DCFB8E3FEC1CB3D2BFB413A78220', present_media='Video', present_links=None, present_domains=None, tweet_type='Retweet', language='76B8A9C3013AE6414A3E6012413CDC3B', tweet_timestamp=1581467323, engaged_with_user_id='D1AA2C85FA644D64346EDD88470525F2', engaged_with_user_follower_count=737, engaged_with_user_following_count=706, engaged_with_user_is_verified=0, engaged_with_user_account_creation=1403069820, engaging_user_id='000046C8606F1C3F5A7296222C88084B', engaging_user_follower_count=131, engaging_user_following_count=2105, engaging_user_is_verified=0, engaging_user_account_creation=1573978269, engaged_follows_engaging=0, reply_timestamp=None, retweet_timestamp=None, retweet_with_comment_timestamp=None, like_timestamp=None, engaged_with_user_follower_count_discretized=8.0, engaged_with_user_following_count_discretized=27.0, engaged_with_user_account_creation_discretized=26.0, engaging_user_follower_count_discretized=21.0, engaging_user_following_count_discretized=46.0, engaging_user_account_creation_discretized=48.0, tweet_timestamp_discretized=43.0, engaged_with_user_follower_count_discretized_oneHot=SparseVector(50, {8: 1.0}), engaged_with_user_following_count_discretized_oneHot=SparseVector(50, {27: 1.0}), engaged_with_user_account_creation_discretized_oneHot=SparseVector(50, {26: 1.0}), engaging_user_follower_count_discretized_oneHot=SparseVector(50, {21: 1.0}), engaging_user_following_count_discretized_oneHot=SparseVector(50, {46: 1.0}), engaging_user_account_creation_discretized_oneHot=SparseVector(50, {48: 1.0}), tweet_timestamp_discretized_oneHot=SparseVector(50, {43: 1.0}), tweet_type_indexed=1.0, language_indexed=20.0, engaged_with_user_is_verified_indexed=0.0, engaging_user_is_verified_indexed=0.0, engaged_follows_engaging_indexed=0.0, tweet_type_indexed_oneHot=SparseVector(3, {1: 1.0}), language_indexed_oneHot=SparseVector(58, {20: 1.0}), engaged_with_user_is_verified_indexed_oneHot=SparseVector(2, {0: 1.0}), engaging_user_is_verified_indexed_oneHot=SparseVector(2, {0: 1.0}), engaged_follows_engaging_indexed_oneHot=SparseVector(2, {0: 1.0}), tweet_id_oneHot=SparseVector(50, {3: 1.0}), engaged_with_user_id_oneHot=SparseVector(50, {24: 1.0}), engaging_user_id_oneHot=SparseVector(50, {6: 1.0}))]"
      ]
     },
     "execution_count": 11,
     "metadata": {},
     "output_type": "execute_result"
    }
   ],
   "source": [
    "df.take(1)"
   ]
  }
 ],
 "metadata": {
  "kernelspec": {
   "display_name": "Python 3",
   "language": "python",
   "name": "python3"
  },
  "language_info": {
   "codemirror_mode": {
    "name": "ipython",
    "version": 3
   },
   "file_extension": ".py",
   "mimetype": "text/x-python",
   "name": "python",
   "nbconvert_exporter": "python",
   "pygments_lexer": "ipython3",
   "version": "3.5.3"
  }
 },
 "nbformat": 4,
 "nbformat_minor": 4
}
